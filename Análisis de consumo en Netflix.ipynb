{
 "cells": [
  {
   "cell_type": "markdown",
   "metadata": {
    "id": "p1ftBZ-s4nsg"
   },
   "source": [
    "# Análisis de consumo de Netflix con Python"
   ]
  },
  {
   "cell_type": "markdown",
   "metadata": {
    "id": "i4e8MJ-v4zog"
   },
   "source": [
    "## 1. Dependencias y carga de datos"
   ]
  },
  {
   "cell_type": "code",
   "execution_count": 24,
   "metadata": {},
   "outputs": [],
   "source": [
    "import pandas as pd \n",
    "import numpy as np\n",
    "import matplotlib.pyplot as plt "
   ]
  },
  {
   "cell_type": "markdown",
   "metadata": {},
   "source": [
    "La data se consigue desde la misma cuenta de Netflix\n",
    "- https://help.netflix.com/es/node/101917"
   ]
  },
  {
   "cell_type": "code",
   "execution_count": 25,
   "metadata": {
    "id": "_-Y13dGQlywU"
   },
   "outputs": [],
   "source": [
    "data = pd.read_csv('NetflixViewingHistory.csv')"
   ]
  },
  {
   "cell_type": "markdown",
   "metadata": {
    "id": "bLxJsVFH47yS"
   },
   "source": [
    "## 2. EDA(Análisis Exploratorio de Datos)"
   ]
  },
  {
   "cell_type": "code",
   "execution_count": 26,
   "metadata": {
    "colab": {
     "base_uri": "https://localhost:8080/"
    },
    "id": "a0jqJliKm3ys",
    "outputId": "9ab83fcd-653a-4c36-8cfb-d1c8e824b9d3"
   },
   "outputs": [
    {
     "data": {
      "text/plain": [
       "(4779, 2)"
      ]
     },
     "execution_count": 26,
     "metadata": {},
     "output_type": "execute_result"
    }
   ],
   "source": [
    "data.shape"
   ]
  },
  {
   "cell_type": "code",
   "execution_count": 27,
   "metadata": {
    "colab": {
     "base_uri": "https://localhost:8080/"
    },
    "id": "-kcURe1tyrvd",
    "outputId": "eea3612e-34a8-4e58-a916-d3cd366a8ad1"
   },
   "outputs": [
    {
     "name": "stdout",
     "output_type": "stream",
     "text": [
      "<class 'pandas.core.frame.DataFrame'>\n",
      "RangeIndex: 4779 entries, 0 to 4778\n",
      "Data columns (total 2 columns):\n",
      " #   Column  Non-Null Count  Dtype \n",
      "---  ------  --------------  ----- \n",
      " 0   Title   4779 non-null   object\n",
      " 1   Date    4779 non-null   object\n",
      "dtypes: object(2)\n",
      "memory usage: 74.8+ KB\n"
     ]
    }
   ],
   "source": [
    "data.info()"
   ]
  },
  {
   "cell_type": "code",
   "execution_count": 28,
   "metadata": {
    "colab": {
     "base_uri": "https://localhost:8080/",
     "height": 1000
    },
    "id": "_8UXy5z7m5lo",
    "outputId": "4e0ee5da-26d8-4cda-a193-7e57bf41fbc5"
   },
   "outputs": [
    {
     "data": {
      "text/html": [
       "<div>\n",
       "<style scoped>\n",
       "    .dataframe tbody tr th:only-of-type {\n",
       "        vertical-align: middle;\n",
       "    }\n",
       "\n",
       "    .dataframe tbody tr th {\n",
       "        vertical-align: top;\n",
       "    }\n",
       "\n",
       "    .dataframe thead th {\n",
       "        text-align: right;\n",
       "    }\n",
       "</style>\n",
       "<table border=\"1\" class=\"dataframe\">\n",
       "  <thead>\n",
       "    <tr style=\"text-align: right;\">\n",
       "      <th></th>\n",
       "      <th>Title</th>\n",
       "      <th>Date</th>\n",
       "    </tr>\n",
       "  </thead>\n",
       "  <tbody>\n",
       "    <tr>\n",
       "      <th>0</th>\n",
       "      <td>Squid Game: Season 1: The Man with the Umbrella</td>\n",
       "      <td>10/4/21</td>\n",
       "    </tr>\n",
       "    <tr>\n",
       "      <th>1</th>\n",
       "      <td>Squid Game: Season 1: Hell</td>\n",
       "      <td>10/4/21</td>\n",
       "    </tr>\n",
       "    <tr>\n",
       "      <th>2</th>\n",
       "      <td>Squid Game: Season 1: Red Light, Green Light</td>\n",
       "      <td>10/4/21</td>\n",
       "    </tr>\n",
       "    <tr>\n",
       "      <th>3</th>\n",
       "      <td>Squid Game: Season 1: Gganbu</td>\n",
       "      <td>10/4/21</td>\n",
       "    </tr>\n",
       "    <tr>\n",
       "      <th>4</th>\n",
       "      <td>Squid Game: Season 1: A Fair World</td>\n",
       "      <td>10/4/21</td>\n",
       "    </tr>\n",
       "  </tbody>\n",
       "</table>\n",
       "</div>"
      ],
      "text/plain": [
       "                                             Title     Date\n",
       "0  Squid Game: Season 1: The Man with the Umbrella  10/4/21\n",
       "1                       Squid Game: Season 1: Hell  10/4/21\n",
       "2     Squid Game: Season 1: Red Light, Green Light  10/4/21\n",
       "3                     Squid Game: Season 1: Gganbu  10/4/21\n",
       "4               Squid Game: Season 1: A Fair World  10/4/21"
      ]
     },
     "execution_count": 28,
     "metadata": {},
     "output_type": "execute_result"
    }
   ],
   "source": [
    "data.head()"
   ]
  },
  {
   "cell_type": "markdown",
   "metadata": {
    "id": "tEdIrsPO9LtP"
   },
   "source": [
    "Vemos que parece que existe un patrón en el que diferentes partes se se separan mediante dos puntos. Vamos a contar en cuantas partes distintas se seperan nuestros contenidos"
   ]
  },
  {
   "cell_type": "code",
   "execution_count": 29,
   "metadata": {
    "colab": {
     "base_uri": "https://localhost:8080/",
     "height": 424
    },
    "id": "uHENhOUypFz_",
    "outputId": "1385268d-637c-47df-f57f-aa201af4e85c"
   },
   "outputs": [
    {
     "data": {
      "text/html": [
       "<div>\n",
       "<style scoped>\n",
       "    .dataframe tbody tr th:only-of-type {\n",
       "        vertical-align: middle;\n",
       "    }\n",
       "\n",
       "    .dataframe tbody tr th {\n",
       "        vertical-align: top;\n",
       "    }\n",
       "\n",
       "    .dataframe thead th {\n",
       "        text-align: right;\n",
       "    }\n",
       "</style>\n",
       "<table border=\"1\" class=\"dataframe\">\n",
       "  <thead>\n",
       "    <tr style=\"text-align: right;\">\n",
       "      <th></th>\n",
       "      <th>Title</th>\n",
       "    </tr>\n",
       "  </thead>\n",
       "  <tbody>\n",
       "    <tr>\n",
       "      <th>0</th>\n",
       "      <td>[Squid Game,  Season 1,  The Man with the Umbr...</td>\n",
       "    </tr>\n",
       "    <tr>\n",
       "      <th>1</th>\n",
       "      <td>[Squid Game,  Season 1,  Hell]</td>\n",
       "    </tr>\n",
       "    <tr>\n",
       "      <th>2</th>\n",
       "      <td>[Squid Game,  Season 1,  Red Light, Green Light]</td>\n",
       "    </tr>\n",
       "    <tr>\n",
       "      <th>3</th>\n",
       "      <td>[Squid Game,  Season 1,  Gganbu]</td>\n",
       "    </tr>\n",
       "    <tr>\n",
       "      <th>4</th>\n",
       "      <td>[Squid Game,  Season 1,  A Fair World]</td>\n",
       "    </tr>\n",
       "    <tr>\n",
       "      <th>...</th>\n",
       "      <td>...</td>\n",
       "    </tr>\n",
       "    <tr>\n",
       "      <th>4774</th>\n",
       "      <td>[The Do-Over]</td>\n",
       "    </tr>\n",
       "    <tr>\n",
       "      <th>4775</th>\n",
       "      <td>[Cars]</td>\n",
       "    </tr>\n",
       "    <tr>\n",
       "      <th>4776</th>\n",
       "      <td>[Lusers]</td>\n",
       "    </tr>\n",
       "    <tr>\n",
       "      <th>4777</th>\n",
       "      <td>[A Monster Calls]</td>\n",
       "    </tr>\n",
       "    <tr>\n",
       "      <th>4778</th>\n",
       "      <td>[The Simpsons Movie]</td>\n",
       "    </tr>\n",
       "  </tbody>\n",
       "</table>\n",
       "<p>4779 rows × 1 columns</p>\n",
       "</div>"
      ],
      "text/plain": [
       "                                                  Title\n",
       "0     [Squid Game,  Season 1,  The Man with the Umbr...\n",
       "1                        [Squid Game,  Season 1,  Hell]\n",
       "2      [Squid Game,  Season 1,  Red Light, Green Light]\n",
       "3                      [Squid Game,  Season 1,  Gganbu]\n",
       "4                [Squid Game,  Season 1,  A Fair World]\n",
       "...                                                 ...\n",
       "4774                                      [The Do-Over]\n",
       "4775                                             [Cars]\n",
       "4776                                           [Lusers]\n",
       "4777                                  [A Monster Calls]\n",
       "4778                               [The Simpsons Movie]\n",
       "\n",
       "[4779 rows x 1 columns]"
      ]
     },
     "execution_count": 29,
     "metadata": {},
     "output_type": "execute_result"
    }
   ],
   "source": [
    "separacion_lista = data['Title'].str.split(pat = ':', expand=False).to_frame()\n",
    "separacion_lista"
   ]
  },
  {
   "cell_type": "code",
   "execution_count": 30,
   "metadata": {
    "colab": {
     "base_uri": "https://localhost:8080/",
     "height": 424
    },
    "id": "Ajdf806jqQzg",
    "outputId": "8ec118b4-8b4c-4727-cae1-1b4df158e883"
   },
   "outputs": [
    {
     "data": {
      "text/html": [
       "<div>\n",
       "<style scoped>\n",
       "    .dataframe tbody tr th:only-of-type {\n",
       "        vertical-align: middle;\n",
       "    }\n",
       "\n",
       "    .dataframe tbody tr th {\n",
       "        vertical-align: top;\n",
       "    }\n",
       "\n",
       "    .dataframe thead th {\n",
       "        text-align: right;\n",
       "    }\n",
       "</style>\n",
       "<table border=\"1\" class=\"dataframe\">\n",
       "  <thead>\n",
       "    <tr style=\"text-align: right;\">\n",
       "      <th></th>\n",
       "      <th>Title</th>\n",
       "      <th>num_partes</th>\n",
       "    </tr>\n",
       "  </thead>\n",
       "  <tbody>\n",
       "    <tr>\n",
       "      <th>0</th>\n",
       "      <td>[Squid Game,  Season 1,  The Man with the Umbr...</td>\n",
       "      <td>3</td>\n",
       "    </tr>\n",
       "    <tr>\n",
       "      <th>1</th>\n",
       "      <td>[Squid Game,  Season 1,  Hell]</td>\n",
       "      <td>3</td>\n",
       "    </tr>\n",
       "    <tr>\n",
       "      <th>2</th>\n",
       "      <td>[Squid Game,  Season 1,  Red Light, Green Light]</td>\n",
       "      <td>3</td>\n",
       "    </tr>\n",
       "    <tr>\n",
       "      <th>3</th>\n",
       "      <td>[Squid Game,  Season 1,  Gganbu]</td>\n",
       "      <td>3</td>\n",
       "    </tr>\n",
       "    <tr>\n",
       "      <th>4</th>\n",
       "      <td>[Squid Game,  Season 1,  A Fair World]</td>\n",
       "      <td>3</td>\n",
       "    </tr>\n",
       "    <tr>\n",
       "      <th>...</th>\n",
       "      <td>...</td>\n",
       "      <td>...</td>\n",
       "    </tr>\n",
       "    <tr>\n",
       "      <th>4774</th>\n",
       "      <td>[The Do-Over]</td>\n",
       "      <td>1</td>\n",
       "    </tr>\n",
       "    <tr>\n",
       "      <th>4775</th>\n",
       "      <td>[Cars]</td>\n",
       "      <td>1</td>\n",
       "    </tr>\n",
       "    <tr>\n",
       "      <th>4776</th>\n",
       "      <td>[Lusers]</td>\n",
       "      <td>1</td>\n",
       "    </tr>\n",
       "    <tr>\n",
       "      <th>4777</th>\n",
       "      <td>[A Monster Calls]</td>\n",
       "      <td>1</td>\n",
       "    </tr>\n",
       "    <tr>\n",
       "      <th>4778</th>\n",
       "      <td>[The Simpsons Movie]</td>\n",
       "      <td>1</td>\n",
       "    </tr>\n",
       "  </tbody>\n",
       "</table>\n",
       "<p>4779 rows × 2 columns</p>\n",
       "</div>"
      ],
      "text/plain": [
       "                                                  Title  num_partes\n",
       "0     [Squid Game,  Season 1,  The Man with the Umbr...           3\n",
       "1                        [Squid Game,  Season 1,  Hell]           3\n",
       "2      [Squid Game,  Season 1,  Red Light, Green Light]           3\n",
       "3                      [Squid Game,  Season 1,  Gganbu]           3\n",
       "4                [Squid Game,  Season 1,  A Fair World]           3\n",
       "...                                                 ...         ...\n",
       "4774                                      [The Do-Over]           1\n",
       "4775                                             [Cars]           1\n",
       "4776                                           [Lusers]           1\n",
       "4777                                  [A Monster Calls]           1\n",
       "4778                               [The Simpsons Movie]           1\n",
       "\n",
       "[4779 rows x 2 columns]"
      ]
     },
     "execution_count": 30,
     "metadata": {},
     "output_type": "execute_result"
    }
   ],
   "source": [
    "separacion_lista['num_partes'] = separacion_lista['Title'].apply(len)\n",
    "separacion_lista"
   ]
  },
  {
   "cell_type": "code",
   "execution_count": 31,
   "metadata": {
    "colab": {
     "base_uri": "https://localhost:8080/"
    },
    "id": "qZ2U41RcuNI0",
    "outputId": "50a12b9b-f0f1-412d-fdf5-3b0036cfe402"
   },
   "outputs": [
    {
     "data": {
      "text/plain": [
       "num_partes\n",
       "3    3353\n",
       "4     635\n",
       "1     542\n",
       "2     191\n",
       "5      52\n",
       "6       6\n",
       "dtype: int64"
      ]
     },
     "execution_count": 31,
     "metadata": {},
     "output_type": "execute_result"
    }
   ],
   "source": [
    "#separacion_lista.num_partes.value_counts()\n",
    "separacion_lista.groupby('num_partes').size().sort_values(ascending=False)"
   ]
  },
  {
   "cell_type": "markdown",
   "metadata": {
    "id": "uFtF_2WX9kIJ"
   },
   "source": [
    "### 2.1. Vamos a analizar los títulos por número de partes a ver si hay algún patrón."
   ]
  },
  {
   "cell_type": "code",
   "execution_count": 32,
   "metadata": {
    "colab": {
     "base_uri": "https://localhost:8080/",
     "height": 363
    },
    "id": "7PSFrvyrr-fY",
    "outputId": "844ccc5f-e89f-4c82-d3ab-55e4c6201307"
   },
   "outputs": [
    {
     "data": {
      "text/html": [
       "<div>\n",
       "<style scoped>\n",
       "    .dataframe tbody tr th:only-of-type {\n",
       "        vertical-align: middle;\n",
       "    }\n",
       "\n",
       "    .dataframe tbody tr th {\n",
       "        vertical-align: top;\n",
       "    }\n",
       "\n",
       "    .dataframe thead th {\n",
       "        text-align: right;\n",
       "    }\n",
       "</style>\n",
       "<table border=\"1\" class=\"dataframe\">\n",
       "  <thead>\n",
       "    <tr style=\"text-align: right;\">\n",
       "      <th></th>\n",
       "      <th>Title</th>\n",
       "      <th>num_partes</th>\n",
       "    </tr>\n",
       "  </thead>\n",
       "  <tbody>\n",
       "    <tr>\n",
       "      <th>8</th>\n",
       "      <td>[The Influence]</td>\n",
       "      <td>1</td>\n",
       "    </tr>\n",
       "    <tr>\n",
       "      <th>9</th>\n",
       "      <td>[Cuidado con lo que deseas]</td>\n",
       "      <td>1</td>\n",
       "    </tr>\n",
       "    <tr>\n",
       "      <th>15</th>\n",
       "      <td>[Mark of the Devil]</td>\n",
       "      <td>1</td>\n",
       "    </tr>\n",
       "    <tr>\n",
       "      <th>16</th>\n",
       "      <td>[Leprechaun Returns]</td>\n",
       "      <td>1</td>\n",
       "    </tr>\n",
       "    <tr>\n",
       "      <th>20</th>\n",
       "      <td>[Main Hoon Na]</td>\n",
       "      <td>1</td>\n",
       "    </tr>\n",
       "    <tr>\n",
       "      <th>21</th>\n",
       "      <td>[Asoka]</td>\n",
       "      <td>1</td>\n",
       "    </tr>\n",
       "    <tr>\n",
       "      <th>32</th>\n",
       "      <td>[The Dark Knight]</td>\n",
       "      <td>1</td>\n",
       "    </tr>\n",
       "    <tr>\n",
       "      <th>61</th>\n",
       "      <td>[Spider-Man 2]</td>\n",
       "      <td>1</td>\n",
       "    </tr>\n",
       "    <tr>\n",
       "      <th>72</th>\n",
       "      <td>[Spider-Man]</td>\n",
       "      <td>1</td>\n",
       "    </tr>\n",
       "    <tr>\n",
       "      <th>82</th>\n",
       "      <td>[The Change-Up]</td>\n",
       "      <td>1</td>\n",
       "    </tr>\n",
       "  </tbody>\n",
       "</table>\n",
       "</div>"
      ],
      "text/plain": [
       "                          Title  num_partes\n",
       "8               [The Influence]           1\n",
       "9   [Cuidado con lo que deseas]           1\n",
       "15          [Mark of the Devil]           1\n",
       "16         [Leprechaun Returns]           1\n",
       "20               [Main Hoon Na]           1\n",
       "21                      [Asoka]           1\n",
       "32            [The Dark Knight]           1\n",
       "61               [Spider-Man 2]           1\n",
       "72                 [Spider-Man]           1\n",
       "82              [The Change-Up]           1"
      ]
     },
     "execution_count": 32,
     "metadata": {},
     "output_type": "execute_result"
    }
   ],
   "source": [
    "separacion_lista[separacion_lista.num_partes == 1].head(10)"
   ]
  },
  {
   "cell_type": "code",
   "execution_count": 33,
   "metadata": {
    "colab": {
     "base_uri": "https://localhost:8080/",
     "height": 363
    },
    "id": "iPvI7604ssup",
    "outputId": "24418433-c9da-4253-c946-8a1a89293cb7"
   },
   "outputs": [
    {
     "data": {
      "text/html": [
       "<div>\n",
       "<style scoped>\n",
       "    .dataframe tbody tr th:only-of-type {\n",
       "        vertical-align: middle;\n",
       "    }\n",
       "\n",
       "    .dataframe tbody tr th {\n",
       "        vertical-align: top;\n",
       "    }\n",
       "\n",
       "    .dataframe thead th {\n",
       "        text-align: right;\n",
       "    }\n",
       "</style>\n",
       "<table border=\"1\" class=\"dataframe\">\n",
       "  <thead>\n",
       "    <tr style=\"text-align: right;\">\n",
       "      <th></th>\n",
       "      <th>Title</th>\n",
       "      <th>num_partes</th>\n",
       "    </tr>\n",
       "  </thead>\n",
       "  <tbody>\n",
       "    <tr>\n",
       "      <th>17</th>\n",
       "      <td>[Rurouni Kenshin,  The Final]</td>\n",
       "      <td>2</td>\n",
       "    </tr>\n",
       "    <tr>\n",
       "      <th>19</th>\n",
       "      <td>[Rurouni Kenshin,  The Beginning]</td>\n",
       "      <td>2</td>\n",
       "    </tr>\n",
       "    <tr>\n",
       "      <th>30</th>\n",
       "      <td>[The Seven Deadly Sins,  Cursed by Light]</td>\n",
       "      <td>2</td>\n",
       "    </tr>\n",
       "    <tr>\n",
       "      <th>77</th>\n",
       "      <td>[The Spectacular Spider-Man,  Reinforcement]</td>\n",
       "      <td>2</td>\n",
       "    </tr>\n",
       "    <tr>\n",
       "      <th>78</th>\n",
       "      <td>[The Spectacular Spider-Man,  Destructive Test...</td>\n",
       "      <td>2</td>\n",
       "    </tr>\n",
       "    <tr>\n",
       "      <th>79</th>\n",
       "      <td>[The Spectacular Spider-Man,  Blueprints]</td>\n",
       "      <td>2</td>\n",
       "    </tr>\n",
       "    <tr>\n",
       "      <th>97</th>\n",
       "      <td>[Alvin and the Chipmunks,  Chipwrecked]</td>\n",
       "      <td>2</td>\n",
       "    </tr>\n",
       "    <tr>\n",
       "      <th>161</th>\n",
       "      <td>[SAS,  Rise of the Black Swan]</td>\n",
       "      <td>2</td>\n",
       "    </tr>\n",
       "    <tr>\n",
       "      <th>212</th>\n",
       "      <td>[Sicario,  Day of the Soldado]</td>\n",
       "      <td>2</td>\n",
       "    </tr>\n",
       "    <tr>\n",
       "      <th>213</th>\n",
       "      <td>[The Witcher,  Nightmare of the Wolf]</td>\n",
       "      <td>2</td>\n",
       "    </tr>\n",
       "  </tbody>\n",
       "</table>\n",
       "</div>"
      ],
      "text/plain": [
       "                                                 Title  num_partes\n",
       "17                       [Rurouni Kenshin,  The Final]           2\n",
       "19                   [Rurouni Kenshin,  The Beginning]           2\n",
       "30           [The Seven Deadly Sins,  Cursed by Light]           2\n",
       "77        [The Spectacular Spider-Man,  Reinforcement]           2\n",
       "78   [The Spectacular Spider-Man,  Destructive Test...           2\n",
       "79           [The Spectacular Spider-Man,  Blueprints]           2\n",
       "97             [Alvin and the Chipmunks,  Chipwrecked]           2\n",
       "161                     [SAS,  Rise of the Black Swan]           2\n",
       "212                     [Sicario,  Day of the Soldado]           2\n",
       "213              [The Witcher,  Nightmare of the Wolf]           2"
      ]
     },
     "execution_count": 33,
     "metadata": {},
     "output_type": "execute_result"
    }
   ],
   "source": [
    "separacion_lista[separacion_lista.num_partes == 2].head(10) "
   ]
  },
  {
   "cell_type": "code",
   "execution_count": 34,
   "metadata": {
    "colab": {
     "base_uri": "https://localhost:8080/",
     "height": 363
    },
    "id": "O8g4horetX0P",
    "outputId": "fefa5c1a-21b1-428f-eb51-74d0809d32f0"
   },
   "outputs": [
    {
     "data": {
      "text/html": [
       "<div>\n",
       "<style scoped>\n",
       "    .dataframe tbody tr th:only-of-type {\n",
       "        vertical-align: middle;\n",
       "    }\n",
       "\n",
       "    .dataframe tbody tr th {\n",
       "        vertical-align: top;\n",
       "    }\n",
       "\n",
       "    .dataframe thead th {\n",
       "        text-align: right;\n",
       "    }\n",
       "</style>\n",
       "<table border=\"1\" class=\"dataframe\">\n",
       "  <thead>\n",
       "    <tr style=\"text-align: right;\">\n",
       "      <th></th>\n",
       "      <th>Title</th>\n",
       "      <th>num_partes</th>\n",
       "    </tr>\n",
       "  </thead>\n",
       "  <tbody>\n",
       "    <tr>\n",
       "      <th>0</th>\n",
       "      <td>[Squid Game,  Season 1,  The Man with the Umbr...</td>\n",
       "      <td>3</td>\n",
       "    </tr>\n",
       "    <tr>\n",
       "      <th>1</th>\n",
       "      <td>[Squid Game,  Season 1,  Hell]</td>\n",
       "      <td>3</td>\n",
       "    </tr>\n",
       "    <tr>\n",
       "      <th>2</th>\n",
       "      <td>[Squid Game,  Season 1,  Red Light, Green Light]</td>\n",
       "      <td>3</td>\n",
       "    </tr>\n",
       "    <tr>\n",
       "      <th>3</th>\n",
       "      <td>[Squid Game,  Season 1,  Gganbu]</td>\n",
       "      <td>3</td>\n",
       "    </tr>\n",
       "    <tr>\n",
       "      <th>4</th>\n",
       "      <td>[Squid Game,  Season 1,  A Fair World]</td>\n",
       "      <td>3</td>\n",
       "    </tr>\n",
       "    <tr>\n",
       "      <th>5</th>\n",
       "      <td>[Squid Game,  Season 1,  One Lucky Day]</td>\n",
       "      <td>3</td>\n",
       "    </tr>\n",
       "    <tr>\n",
       "      <th>6</th>\n",
       "      <td>[Squid Game,  Season 1,  Front Man]</td>\n",
       "      <td>3</td>\n",
       "    </tr>\n",
       "    <tr>\n",
       "      <th>7</th>\n",
       "      <td>[Squid Game,  Season 1,  VIPS]</td>\n",
       "      <td>3</td>\n",
       "    </tr>\n",
       "    <tr>\n",
       "      <th>10</th>\n",
       "      <td>[Squid Game,  Season 1,  Stick to the Team]</td>\n",
       "      <td>3</td>\n",
       "    </tr>\n",
       "    <tr>\n",
       "      <th>11</th>\n",
       "      <td>[Baki Hanma,  Season 1,  The Prison Guard talk...</td>\n",
       "      <td>3</td>\n",
       "    </tr>\n",
       "  </tbody>\n",
       "</table>\n",
       "</div>"
      ],
      "text/plain": [
       "                                                Title  num_partes\n",
       "0   [Squid Game,  Season 1,  The Man with the Umbr...           3\n",
       "1                      [Squid Game,  Season 1,  Hell]           3\n",
       "2    [Squid Game,  Season 1,  Red Light, Green Light]           3\n",
       "3                    [Squid Game,  Season 1,  Gganbu]           3\n",
       "4              [Squid Game,  Season 1,  A Fair World]           3\n",
       "5             [Squid Game,  Season 1,  One Lucky Day]           3\n",
       "6                 [Squid Game,  Season 1,  Front Man]           3\n",
       "7                      [Squid Game,  Season 1,  VIPS]           3\n",
       "10        [Squid Game,  Season 1,  Stick to the Team]           3\n",
       "11  [Baki Hanma,  Season 1,  The Prison Guard talk...           3"
      ]
     },
     "execution_count": 34,
     "metadata": {},
     "output_type": "execute_result"
    }
   ],
   "source": [
    "separacion_lista[separacion_lista.num_partes == 3].head(10)"
   ]
  },
  {
   "cell_type": "code",
   "execution_count": 35,
   "metadata": {
    "colab": {
     "base_uri": "https://localhost:8080/",
     "height": 363
    },
    "id": "sCWbwtyztkPY",
    "outputId": "1db5d464-a2c3-4c07-ac57-057100169a4b"
   },
   "outputs": [
    {
     "data": {
      "text/html": [
       "<div>\n",
       "<style scoped>\n",
       "    .dataframe tbody tr th:only-of-type {\n",
       "        vertical-align: middle;\n",
       "    }\n",
       "\n",
       "    .dataframe tbody tr th {\n",
       "        vertical-align: top;\n",
       "    }\n",
       "\n",
       "    .dataframe thead th {\n",
       "        text-align: right;\n",
       "    }\n",
       "</style>\n",
       "<table border=\"1\" class=\"dataframe\">\n",
       "  <thead>\n",
       "    <tr style=\"text-align: right;\">\n",
       "      <th></th>\n",
       "      <th>Title</th>\n",
       "      <th>num_partes</th>\n",
       "    </tr>\n",
       "  </thead>\n",
       "  <tbody>\n",
       "    <tr>\n",
       "      <th>35</th>\n",
       "      <td>[Demon Slayer,  Kimetsu no Yaiba,  Tanjiro Kam...</td>\n",
       "      <td>4</td>\n",
       "    </tr>\n",
       "    <tr>\n",
       "      <th>36</th>\n",
       "      <td>[Demon Slayer,  Kimetsu no Yaiba,  Tanjiro Kam...</td>\n",
       "      <td>4</td>\n",
       "    </tr>\n",
       "    <tr>\n",
       "      <th>37</th>\n",
       "      <td>[Demon Slayer,  Kimetsu no Yaiba,  Tanjiro Kam...</td>\n",
       "      <td>4</td>\n",
       "    </tr>\n",
       "    <tr>\n",
       "      <th>38</th>\n",
       "      <td>[Demon Slayer,  Kimetsu no Yaiba,  Tanjiro Kam...</td>\n",
       "      <td>4</td>\n",
       "    </tr>\n",
       "    <tr>\n",
       "      <th>39</th>\n",
       "      <td>[Demon Slayer,  Kimetsu no Yaiba,  Tanjiro Kam...</td>\n",
       "      <td>4</td>\n",
       "    </tr>\n",
       "    <tr>\n",
       "      <th>40</th>\n",
       "      <td>[Demon Slayer,  Kimetsu no Yaiba,  Tanjiro Kam...</td>\n",
       "      <td>4</td>\n",
       "    </tr>\n",
       "    <tr>\n",
       "      <th>41</th>\n",
       "      <td>[Demon Slayer,  Kimetsu no Yaiba,  Tanjiro Kam...</td>\n",
       "      <td>4</td>\n",
       "    </tr>\n",
       "    <tr>\n",
       "      <th>42</th>\n",
       "      <td>[Demon Slayer,  Kimetsu no Yaiba,  Tanjiro Kam...</td>\n",
       "      <td>4</td>\n",
       "    </tr>\n",
       "    <tr>\n",
       "      <th>43</th>\n",
       "      <td>[Demon Slayer,  Kimetsu no Yaiba,  Tanjiro Kam...</td>\n",
       "      <td>4</td>\n",
       "    </tr>\n",
       "    <tr>\n",
       "      <th>44</th>\n",
       "      <td>[Demon Slayer,  Kimetsu no Yaiba,  Tanjiro Kam...</td>\n",
       "      <td>4</td>\n",
       "    </tr>\n",
       "  </tbody>\n",
       "</table>\n",
       "</div>"
      ],
      "text/plain": [
       "                                                Title  num_partes\n",
       "35  [Demon Slayer,  Kimetsu no Yaiba,  Tanjiro Kam...           4\n",
       "36  [Demon Slayer,  Kimetsu no Yaiba,  Tanjiro Kam...           4\n",
       "37  [Demon Slayer,  Kimetsu no Yaiba,  Tanjiro Kam...           4\n",
       "38  [Demon Slayer,  Kimetsu no Yaiba,  Tanjiro Kam...           4\n",
       "39  [Demon Slayer,  Kimetsu no Yaiba,  Tanjiro Kam...           4\n",
       "40  [Demon Slayer,  Kimetsu no Yaiba,  Tanjiro Kam...           4\n",
       "41  [Demon Slayer,  Kimetsu no Yaiba,  Tanjiro Kam...           4\n",
       "42  [Demon Slayer,  Kimetsu no Yaiba,  Tanjiro Kam...           4\n",
       "43  [Demon Slayer,  Kimetsu no Yaiba,  Tanjiro Kam...           4\n",
       "44  [Demon Slayer,  Kimetsu no Yaiba,  Tanjiro Kam...           4"
      ]
     },
     "execution_count": 35,
     "metadata": {},
     "output_type": "execute_result"
    }
   ],
   "source": [
    "separacion_lista[separacion_lista.num_partes == 4].head(10)"
   ]
  },
  {
   "cell_type": "code",
   "execution_count": 36,
   "metadata": {
    "colab": {
     "base_uri": "https://localhost:8080/",
     "height": 363
    },
    "id": "9YbTp8rnt-X0",
    "outputId": "7cfd396f-b7c5-47d2-f910-ce2210e8cd2e"
   },
   "outputs": [
    {
     "data": {
      "text/html": [
       "<div>\n",
       "<style scoped>\n",
       "    .dataframe tbody tr th:only-of-type {\n",
       "        vertical-align: middle;\n",
       "    }\n",
       "\n",
       "    .dataframe tbody tr th {\n",
       "        vertical-align: top;\n",
       "    }\n",
       "\n",
       "    .dataframe thead th {\n",
       "        text-align: right;\n",
       "    }\n",
       "</style>\n",
       "<table border=\"1\" class=\"dataframe\">\n",
       "  <thead>\n",
       "    <tr style=\"text-align: right;\">\n",
       "      <th></th>\n",
       "      <th>Title</th>\n",
       "      <th>num_partes</th>\n",
       "    </tr>\n",
       "  </thead>\n",
       "  <tbody>\n",
       "    <tr>\n",
       "      <th>595</th>\n",
       "      <td>[The Legend of Korra,  Book Four,  Balance,  O...</td>\n",
       "      <td>5</td>\n",
       "    </tr>\n",
       "    <tr>\n",
       "      <th>624</th>\n",
       "      <td>[The Legend of Korra,  Book Two,  Spirits,  Be...</td>\n",
       "      <td>5</td>\n",
       "    </tr>\n",
       "    <tr>\n",
       "      <th>625</th>\n",
       "      <td>[The Legend of Korra,  Book Two,  Spirits,  Be...</td>\n",
       "      <td>5</td>\n",
       "    </tr>\n",
       "    <tr>\n",
       "      <th>628</th>\n",
       "      <td>[The Legend of Korra,  Book Two,  Spirits,  Ci...</td>\n",
       "      <td>5</td>\n",
       "    </tr>\n",
       "    <tr>\n",
       "      <th>629</th>\n",
       "      <td>[The Legend of Korra,  Book Two,  Spirits,  Ci...</td>\n",
       "      <td>5</td>\n",
       "    </tr>\n",
       "    <tr>\n",
       "      <th>1254</th>\n",
       "      <td>[Black Lightning,  Season 2,  The Book of Apoc...</td>\n",
       "      <td>5</td>\n",
       "    </tr>\n",
       "    <tr>\n",
       "      <th>1255</th>\n",
       "      <td>[Black Lightning,  Season 2,  The Book of Apoc...</td>\n",
       "      <td>5</td>\n",
       "    </tr>\n",
       "    <tr>\n",
       "      <th>1256</th>\n",
       "      <td>[Black Lightning,  Season 3,  The Book of War,...</td>\n",
       "      <td>5</td>\n",
       "    </tr>\n",
       "    <tr>\n",
       "      <th>1257</th>\n",
       "      <td>[Black Lightning,  Season 3,  The Book of War,...</td>\n",
       "      <td>5</td>\n",
       "    </tr>\n",
       "    <tr>\n",
       "      <th>1258</th>\n",
       "      <td>[Black Lightning,  Season 3,  The Book of War,...</td>\n",
       "      <td>5</td>\n",
       "    </tr>\n",
       "  </tbody>\n",
       "</table>\n",
       "</div>"
      ],
      "text/plain": [
       "                                                  Title  num_partes\n",
       "595   [The Legend of Korra,  Book Four,  Balance,  O...           5\n",
       "624   [The Legend of Korra,  Book Two,  Spirits,  Be...           5\n",
       "625   [The Legend of Korra,  Book Two,  Spirits,  Be...           5\n",
       "628   [The Legend of Korra,  Book Two,  Spirits,  Ci...           5\n",
       "629   [The Legend of Korra,  Book Two,  Spirits,  Ci...           5\n",
       "1254  [Black Lightning,  Season 2,  The Book of Apoc...           5\n",
       "1255  [Black Lightning,  Season 2,  The Book of Apoc...           5\n",
       "1256  [Black Lightning,  Season 3,  The Book of War,...           5\n",
       "1257  [Black Lightning,  Season 3,  The Book of War,...           5\n",
       "1258  [Black Lightning,  Season 3,  The Book of War,...           5"
      ]
     },
     "execution_count": 36,
     "metadata": {},
     "output_type": "execute_result"
    }
   ],
   "source": [
    "separacion_lista[separacion_lista.num_partes == 5].head(10)"
   ]
  },
  {
   "cell_type": "code",
   "execution_count": 37,
   "metadata": {},
   "outputs": [
    {
     "data": {
      "text/html": [
       "<div>\n",
       "<style scoped>\n",
       "    .dataframe tbody tr th:only-of-type {\n",
       "        vertical-align: middle;\n",
       "    }\n",
       "\n",
       "    .dataframe tbody tr th {\n",
       "        vertical-align: top;\n",
       "    }\n",
       "\n",
       "    .dataframe thead th {\n",
       "        text-align: right;\n",
       "    }\n",
       "</style>\n",
       "<table border=\"1\" class=\"dataframe\">\n",
       "  <thead>\n",
       "    <tr style=\"text-align: right;\">\n",
       "      <th></th>\n",
       "      <th>Title</th>\n",
       "      <th>num_partes</th>\n",
       "    </tr>\n",
       "  </thead>\n",
       "  <tbody>\n",
       "    <tr>\n",
       "      <th>2135</th>\n",
       "      <td>[Avatar,  The Last Airbender,  Book 3,  Sozin'...</td>\n",
       "      <td>6</td>\n",
       "    </tr>\n",
       "    <tr>\n",
       "      <th>2136</th>\n",
       "      <td>[Avatar,  The Last Airbender,  Book 3,  Sozin'...</td>\n",
       "      <td>6</td>\n",
       "    </tr>\n",
       "    <tr>\n",
       "      <th>2137</th>\n",
       "      <td>[Avatar,  The Last Airbender,  Book 3,  Sozin'...</td>\n",
       "      <td>6</td>\n",
       "    </tr>\n",
       "    <tr>\n",
       "      <th>2138</th>\n",
       "      <td>[Avatar,  The Last Airbender,  Book 3,  Sozin'...</td>\n",
       "      <td>6</td>\n",
       "    </tr>\n",
       "    <tr>\n",
       "      <th>2163</th>\n",
       "      <td>[Avatar,  The Last Airbender,  Book 2,  Journe...</td>\n",
       "      <td>6</td>\n",
       "    </tr>\n",
       "    <tr>\n",
       "      <th>2164</th>\n",
       "      <td>[Avatar,  The Last Airbender,  Book 2,  Journe...</td>\n",
       "      <td>6</td>\n",
       "    </tr>\n",
       "  </tbody>\n",
       "</table>\n",
       "</div>"
      ],
      "text/plain": [
       "                                                  Title  num_partes\n",
       "2135  [Avatar,  The Last Airbender,  Book 3,  Sozin'...           6\n",
       "2136  [Avatar,  The Last Airbender,  Book 3,  Sozin'...           6\n",
       "2137  [Avatar,  The Last Airbender,  Book 3,  Sozin'...           6\n",
       "2138  [Avatar,  The Last Airbender,  Book 3,  Sozin'...           6\n",
       "2163  [Avatar,  The Last Airbender,  Book 2,  Journe...           6\n",
       "2164  [Avatar,  The Last Airbender,  Book 2,  Journe...           6"
      ]
     },
     "execution_count": 37,
     "metadata": {},
     "output_type": "execute_result"
    }
   ],
   "source": [
    "separacion_lista[separacion_lista.num_partes == 6].head(10) "
   ]
  },
  {
   "cell_type": "markdown",
   "metadata": {
    "id": "bxFRuxZv5hbA"
   },
   "source": [
    "## 3. Creando variables"
   ]
  },
  {
   "cell_type": "markdown",
   "metadata": {
    "id": "XoCuooTE95pX"
   },
   "source": [
    "Nuestro dataset original tiene muy pocas variables, pero con un poco de trabajo podemos generar nuevas variables. Este proceso se llama \"feature extraction\"."
   ]
  },
  {
   "cell_type": "markdown",
   "metadata": {
    "id": "jcdoTkUg6BxQ"
   },
   "source": [
    "### 3.1 Variables según el título: Película o Serie"
   ]
  },
  {
   "cell_type": "markdown",
   "metadata": {},
   "source": [
    "Teniendo en cuenta el análisis anterior clasificamos en base a las separaciones, si tiene menos de 3 se considera película, caso contrario lo consideramos como una serie."
   ]
  },
  {
   "cell_type": "code",
   "execution_count": 38,
   "metadata": {
    "colab": {
     "base_uri": "https://localhost:8080/",
     "height": 424
    },
    "id": "c9FS7Sq6winM",
    "outputId": "ee3a21a5-9b31-4f20-afe4-102b0fd019d4"
   },
   "outputs": [
    {
     "data": {
      "text/html": [
       "<div>\n",
       "<style scoped>\n",
       "    .dataframe tbody tr th:only-of-type {\n",
       "        vertical-align: middle;\n",
       "    }\n",
       "\n",
       "    .dataframe tbody tr th {\n",
       "        vertical-align: top;\n",
       "    }\n",
       "\n",
       "    .dataframe thead th {\n",
       "        text-align: right;\n",
       "    }\n",
       "</style>\n",
       "<table border=\"1\" class=\"dataframe\">\n",
       "  <thead>\n",
       "    <tr style=\"text-align: right;\">\n",
       "      <th></th>\n",
       "      <th>Title</th>\n",
       "      <th>num_partes</th>\n",
       "      <th>tipo</th>\n",
       "    </tr>\n",
       "  </thead>\n",
       "  <tbody>\n",
       "    <tr>\n",
       "      <th>0</th>\n",
       "      <td>[Squid Game,  Season 1,  The Man with the Umbr...</td>\n",
       "      <td>3</td>\n",
       "      <td>serie</td>\n",
       "    </tr>\n",
       "    <tr>\n",
       "      <th>1</th>\n",
       "      <td>[Squid Game,  Season 1,  Hell]</td>\n",
       "      <td>3</td>\n",
       "      <td>serie</td>\n",
       "    </tr>\n",
       "    <tr>\n",
       "      <th>2</th>\n",
       "      <td>[Squid Game,  Season 1,  Red Light, Green Light]</td>\n",
       "      <td>3</td>\n",
       "      <td>serie</td>\n",
       "    </tr>\n",
       "    <tr>\n",
       "      <th>3</th>\n",
       "      <td>[Squid Game,  Season 1,  Gganbu]</td>\n",
       "      <td>3</td>\n",
       "      <td>serie</td>\n",
       "    </tr>\n",
       "    <tr>\n",
       "      <th>4</th>\n",
       "      <td>[Squid Game,  Season 1,  A Fair World]</td>\n",
       "      <td>3</td>\n",
       "      <td>serie</td>\n",
       "    </tr>\n",
       "    <tr>\n",
       "      <th>...</th>\n",
       "      <td>...</td>\n",
       "      <td>...</td>\n",
       "      <td>...</td>\n",
       "    </tr>\n",
       "    <tr>\n",
       "      <th>4774</th>\n",
       "      <td>[The Do-Over]</td>\n",
       "      <td>1</td>\n",
       "      <td>pelicula</td>\n",
       "    </tr>\n",
       "    <tr>\n",
       "      <th>4775</th>\n",
       "      <td>[Cars]</td>\n",
       "      <td>1</td>\n",
       "      <td>pelicula</td>\n",
       "    </tr>\n",
       "    <tr>\n",
       "      <th>4776</th>\n",
       "      <td>[Lusers]</td>\n",
       "      <td>1</td>\n",
       "      <td>pelicula</td>\n",
       "    </tr>\n",
       "    <tr>\n",
       "      <th>4777</th>\n",
       "      <td>[A Monster Calls]</td>\n",
       "      <td>1</td>\n",
       "      <td>pelicula</td>\n",
       "    </tr>\n",
       "    <tr>\n",
       "      <th>4778</th>\n",
       "      <td>[The Simpsons Movie]</td>\n",
       "      <td>1</td>\n",
       "      <td>pelicula</td>\n",
       "    </tr>\n",
       "  </tbody>\n",
       "</table>\n",
       "<p>4779 rows × 3 columns</p>\n",
       "</div>"
      ],
      "text/plain": [
       "                                                  Title  num_partes      tipo\n",
       "0     [Squid Game,  Season 1,  The Man with the Umbr...           3     serie\n",
       "1                        [Squid Game,  Season 1,  Hell]           3     serie\n",
       "2      [Squid Game,  Season 1,  Red Light, Green Light]           3     serie\n",
       "3                      [Squid Game,  Season 1,  Gganbu]           3     serie\n",
       "4                [Squid Game,  Season 1,  A Fair World]           3     serie\n",
       "...                                                 ...         ...       ...\n",
       "4774                                      [The Do-Over]           1  pelicula\n",
       "4775                                             [Cars]           1  pelicula\n",
       "4776                                           [Lusers]           1  pelicula\n",
       "4777                                  [A Monster Calls]           1  pelicula\n",
       "4778                               [The Simpsons Movie]           1  pelicula\n",
       "\n",
       "[4779 rows x 3 columns]"
      ]
     },
     "execution_count": 38,
     "metadata": {},
     "output_type": "execute_result"
    }
   ],
   "source": [
    "separacion_lista['tipo'] = np.where(separacion_lista.num_partes <3, 'pelicula', 'serie')\n",
    "separacion_lista"
   ]
  },
  {
   "cell_type": "code",
   "execution_count": 39,
   "metadata": {
    "colab": {
     "base_uri": "https://localhost:8080/",
     "height": 424
    },
    "id": "srnHP0nOxFLq",
    "outputId": "80c09c90-292f-4485-dc70-04b0632bf507"
   },
   "outputs": [
    {
     "data": {
      "text/html": [
       "<div>\n",
       "<style scoped>\n",
       "    .dataframe tbody tr th:only-of-type {\n",
       "        vertical-align: middle;\n",
       "    }\n",
       "\n",
       "    .dataframe tbody tr th {\n",
       "        vertical-align: top;\n",
       "    }\n",
       "\n",
       "    .dataframe thead th {\n",
       "        text-align: right;\n",
       "    }\n",
       "</style>\n",
       "<table border=\"1\" class=\"dataframe\">\n",
       "  <thead>\n",
       "    <tr style=\"text-align: right;\">\n",
       "      <th></th>\n",
       "      <th>Title</th>\n",
       "      <th>Date</th>\n",
       "      <th>tipo</th>\n",
       "    </tr>\n",
       "  </thead>\n",
       "  <tbody>\n",
       "    <tr>\n",
       "      <th>0</th>\n",
       "      <td>Squid Game: Season 1: The Man with the Umbrella</td>\n",
       "      <td>10/4/21</td>\n",
       "      <td>serie</td>\n",
       "    </tr>\n",
       "    <tr>\n",
       "      <th>1</th>\n",
       "      <td>Squid Game: Season 1: Hell</td>\n",
       "      <td>10/4/21</td>\n",
       "      <td>serie</td>\n",
       "    </tr>\n",
       "    <tr>\n",
       "      <th>2</th>\n",
       "      <td>Squid Game: Season 1: Red Light, Green Light</td>\n",
       "      <td>10/4/21</td>\n",
       "      <td>serie</td>\n",
       "    </tr>\n",
       "    <tr>\n",
       "      <th>3</th>\n",
       "      <td>Squid Game: Season 1: Gganbu</td>\n",
       "      <td>10/4/21</td>\n",
       "      <td>serie</td>\n",
       "    </tr>\n",
       "    <tr>\n",
       "      <th>4</th>\n",
       "      <td>Squid Game: Season 1: A Fair World</td>\n",
       "      <td>10/4/21</td>\n",
       "      <td>serie</td>\n",
       "    </tr>\n",
       "    <tr>\n",
       "      <th>...</th>\n",
       "      <td>...</td>\n",
       "      <td>...</td>\n",
       "      <td>...</td>\n",
       "    </tr>\n",
       "    <tr>\n",
       "      <th>4774</th>\n",
       "      <td>The Do-Over</td>\n",
       "      <td>3/13/18</td>\n",
       "      <td>pelicula</td>\n",
       "    </tr>\n",
       "    <tr>\n",
       "      <th>4775</th>\n",
       "      <td>Cars</td>\n",
       "      <td>3/12/18</td>\n",
       "      <td>pelicula</td>\n",
       "    </tr>\n",
       "    <tr>\n",
       "      <th>4776</th>\n",
       "      <td>Lusers</td>\n",
       "      <td>2/17/18</td>\n",
       "      <td>pelicula</td>\n",
       "    </tr>\n",
       "    <tr>\n",
       "      <th>4777</th>\n",
       "      <td>A Monster Calls</td>\n",
       "      <td>2/14/18</td>\n",
       "      <td>pelicula</td>\n",
       "    </tr>\n",
       "    <tr>\n",
       "      <th>4778</th>\n",
       "      <td>The Simpsons Movie</td>\n",
       "      <td>2/13/18</td>\n",
       "      <td>pelicula</td>\n",
       "    </tr>\n",
       "  </tbody>\n",
       "</table>\n",
       "<p>4779 rows × 3 columns</p>\n",
       "</div>"
      ],
      "text/plain": [
       "                                                Title     Date      tipo\n",
       "0     Squid Game: Season 1: The Man with the Umbrella  10/4/21     serie\n",
       "1                          Squid Game: Season 1: Hell  10/4/21     serie\n",
       "2        Squid Game: Season 1: Red Light, Green Light  10/4/21     serie\n",
       "3                        Squid Game: Season 1: Gganbu  10/4/21     serie\n",
       "4                  Squid Game: Season 1: A Fair World  10/4/21     serie\n",
       "...                                               ...      ...       ...\n",
       "4774                                      The Do-Over  3/13/18  pelicula\n",
       "4775                                             Cars  3/12/18  pelicula\n",
       "4776                                           Lusers  2/17/18  pelicula\n",
       "4777                                  A Monster Calls  2/14/18  pelicula\n",
       "4778                               The Simpsons Movie  2/13/18  pelicula\n",
       "\n",
       "[4779 rows x 3 columns]"
      ]
     },
     "execution_count": 39,
     "metadata": {},
     "output_type": "execute_result"
    }
   ],
   "source": [
    "data = pd.concat([data,separacion_lista['tipo']], axis = 1)\n",
    "data "
   ]
  },
  {
   "cell_type": "markdown",
   "metadata": {
    "id": "AUMtzBNN-Sdg"
   },
   "source": [
    "Vamos a dividir los títulos en sus diferentes niveles y generar así nuevas variables"
   ]
  },
  {
   "cell_type": "code",
   "execution_count": 42,
   "metadata": {
    "colab": {
     "base_uri": "https://localhost:8080/",
     "height": 424
    },
    "id": "WBFye4qRtl5v",
    "outputId": "dfdcc48a-0137-449a-b154-2985fb1b81c0"
   },
   "outputs": [
    {
     "data": {
      "text/html": [
       "<div>\n",
       "<style scoped>\n",
       "    .dataframe tbody tr th:only-of-type {\n",
       "        vertical-align: middle;\n",
       "    }\n",
       "\n",
       "    .dataframe tbody tr th {\n",
       "        vertical-align: top;\n",
       "    }\n",
       "\n",
       "    .dataframe thead th {\n",
       "        text-align: right;\n",
       "    }\n",
       "</style>\n",
       "<table border=\"1\" class=\"dataframe\">\n",
       "  <thead>\n",
       "    <tr style=\"text-align: right;\">\n",
       "      <th></th>\n",
       "      <th>0</th>\n",
       "      <th>1</th>\n",
       "      <th>2</th>\n",
       "      <th>3</th>\n",
       "      <th>4</th>\n",
       "      <th>5</th>\n",
       "    </tr>\n",
       "  </thead>\n",
       "  <tbody>\n",
       "    <tr>\n",
       "      <th>0</th>\n",
       "      <td>Squid Game</td>\n",
       "      <td>Season 1</td>\n",
       "      <td>The Man with the Umbrella</td>\n",
       "      <td>None</td>\n",
       "      <td>None</td>\n",
       "      <td>None</td>\n",
       "    </tr>\n",
       "    <tr>\n",
       "      <th>1</th>\n",
       "      <td>Squid Game</td>\n",
       "      <td>Season 1</td>\n",
       "      <td>Hell</td>\n",
       "      <td>None</td>\n",
       "      <td>None</td>\n",
       "      <td>None</td>\n",
       "    </tr>\n",
       "    <tr>\n",
       "      <th>2</th>\n",
       "      <td>Squid Game</td>\n",
       "      <td>Season 1</td>\n",
       "      <td>Red Light, Green Light</td>\n",
       "      <td>None</td>\n",
       "      <td>None</td>\n",
       "      <td>None</td>\n",
       "    </tr>\n",
       "    <tr>\n",
       "      <th>3</th>\n",
       "      <td>Squid Game</td>\n",
       "      <td>Season 1</td>\n",
       "      <td>Gganbu</td>\n",
       "      <td>None</td>\n",
       "      <td>None</td>\n",
       "      <td>None</td>\n",
       "    </tr>\n",
       "    <tr>\n",
       "      <th>4</th>\n",
       "      <td>Squid Game</td>\n",
       "      <td>Season 1</td>\n",
       "      <td>A Fair World</td>\n",
       "      <td>None</td>\n",
       "      <td>None</td>\n",
       "      <td>None</td>\n",
       "    </tr>\n",
       "    <tr>\n",
       "      <th>...</th>\n",
       "      <td>...</td>\n",
       "      <td>...</td>\n",
       "      <td>...</td>\n",
       "      <td>...</td>\n",
       "      <td>...</td>\n",
       "      <td>...</td>\n",
       "    </tr>\n",
       "    <tr>\n",
       "      <th>4774</th>\n",
       "      <td>The Do-Over</td>\n",
       "      <td>None</td>\n",
       "      <td>None</td>\n",
       "      <td>None</td>\n",
       "      <td>None</td>\n",
       "      <td>None</td>\n",
       "    </tr>\n",
       "    <tr>\n",
       "      <th>4775</th>\n",
       "      <td>Cars</td>\n",
       "      <td>None</td>\n",
       "      <td>None</td>\n",
       "      <td>None</td>\n",
       "      <td>None</td>\n",
       "      <td>None</td>\n",
       "    </tr>\n",
       "    <tr>\n",
       "      <th>4776</th>\n",
       "      <td>Lusers</td>\n",
       "      <td>None</td>\n",
       "      <td>None</td>\n",
       "      <td>None</td>\n",
       "      <td>None</td>\n",
       "      <td>None</td>\n",
       "    </tr>\n",
       "    <tr>\n",
       "      <th>4777</th>\n",
       "      <td>A Monster Calls</td>\n",
       "      <td>None</td>\n",
       "      <td>None</td>\n",
       "      <td>None</td>\n",
       "      <td>None</td>\n",
       "      <td>None</td>\n",
       "    </tr>\n",
       "    <tr>\n",
       "      <th>4778</th>\n",
       "      <td>The Simpsons Movie</td>\n",
       "      <td>None</td>\n",
       "      <td>None</td>\n",
       "      <td>None</td>\n",
       "      <td>None</td>\n",
       "      <td>None</td>\n",
       "    </tr>\n",
       "  </tbody>\n",
       "</table>\n",
       "<p>4779 rows × 6 columns</p>\n",
       "</div>"
      ],
      "text/plain": [
       "                       0          1                           2     3     4  \\\n",
       "0             Squid Game   Season 1   The Man with the Umbrella  None  None   \n",
       "1             Squid Game   Season 1                        Hell  None  None   \n",
       "2             Squid Game   Season 1      Red Light, Green Light  None  None   \n",
       "3             Squid Game   Season 1                      Gganbu  None  None   \n",
       "4             Squid Game   Season 1                A Fair World  None  None   \n",
       "...                  ...        ...                         ...   ...   ...   \n",
       "4774         The Do-Over       None                        None  None  None   \n",
       "4775                Cars       None                        None  None  None   \n",
       "4776              Lusers       None                        None  None  None   \n",
       "4777     A Monster Calls       None                        None  None  None   \n",
       "4778  The Simpsons Movie       None                        None  None  None   \n",
       "\n",
       "         5  \n",
       "0     None  \n",
       "1     None  \n",
       "2     None  \n",
       "3     None  \n",
       "4     None  \n",
       "...    ...  \n",
       "4774  None  \n",
       "4775  None  \n",
       "4776  None  \n",
       "4777  None  \n",
       "4778  None  \n",
       "\n",
       "[4779 rows x 6 columns]"
      ]
     },
     "execution_count": 42,
     "metadata": {},
     "output_type": "execute_result"
    }
   ],
   "source": [
    "separacion_cols = data.Title.str.split(pat = ':', expand=True)\n",
    "separacion_cols"
   ]
  },
  {
   "cell_type": "code",
   "execution_count": 43,
   "metadata": {
    "colab": {
     "base_uri": "https://localhost:8080/",
     "height": 424
    },
    "id": "9eZcJ4pKt1wX",
    "outputId": "b3cdb3f9-b233-441b-d8ff-b99598a2b1fc"
   },
   "outputs": [
    {
     "data": {
      "text/html": [
       "<div>\n",
       "<style scoped>\n",
       "    .dataframe tbody tr th:only-of-type {\n",
       "        vertical-align: middle;\n",
       "    }\n",
       "\n",
       "    .dataframe tbody tr th {\n",
       "        vertical-align: top;\n",
       "    }\n",
       "\n",
       "    .dataframe thead th {\n",
       "        text-align: right;\n",
       "    }\n",
       "</style>\n",
       "<table border=\"1\" class=\"dataframe\">\n",
       "  <thead>\n",
       "    <tr style=\"text-align: right;\">\n",
       "      <th></th>\n",
       "      <th>nivel1</th>\n",
       "      <th>nivel2</th>\n",
       "      <th>nivel3</th>\n",
       "      <th>nivel4</th>\n",
       "      <th>nivel5</th>\n",
       "      <th>nivel6</th>\n",
       "    </tr>\n",
       "  </thead>\n",
       "  <tbody>\n",
       "    <tr>\n",
       "      <th>0</th>\n",
       "      <td>Squid Game</td>\n",
       "      <td>Season 1</td>\n",
       "      <td>The Man with the Umbrella</td>\n",
       "      <td>None</td>\n",
       "      <td>None</td>\n",
       "      <td>None</td>\n",
       "    </tr>\n",
       "    <tr>\n",
       "      <th>1</th>\n",
       "      <td>Squid Game</td>\n",
       "      <td>Season 1</td>\n",
       "      <td>Hell</td>\n",
       "      <td>None</td>\n",
       "      <td>None</td>\n",
       "      <td>None</td>\n",
       "    </tr>\n",
       "    <tr>\n",
       "      <th>2</th>\n",
       "      <td>Squid Game</td>\n",
       "      <td>Season 1</td>\n",
       "      <td>Red Light, Green Light</td>\n",
       "      <td>None</td>\n",
       "      <td>None</td>\n",
       "      <td>None</td>\n",
       "    </tr>\n",
       "    <tr>\n",
       "      <th>3</th>\n",
       "      <td>Squid Game</td>\n",
       "      <td>Season 1</td>\n",
       "      <td>Gganbu</td>\n",
       "      <td>None</td>\n",
       "      <td>None</td>\n",
       "      <td>None</td>\n",
       "    </tr>\n",
       "    <tr>\n",
       "      <th>4</th>\n",
       "      <td>Squid Game</td>\n",
       "      <td>Season 1</td>\n",
       "      <td>A Fair World</td>\n",
       "      <td>None</td>\n",
       "      <td>None</td>\n",
       "      <td>None</td>\n",
       "    </tr>\n",
       "    <tr>\n",
       "      <th>...</th>\n",
       "      <td>...</td>\n",
       "      <td>...</td>\n",
       "      <td>...</td>\n",
       "      <td>...</td>\n",
       "      <td>...</td>\n",
       "      <td>...</td>\n",
       "    </tr>\n",
       "    <tr>\n",
       "      <th>4774</th>\n",
       "      <td>The Do-Over</td>\n",
       "      <td>None</td>\n",
       "      <td>None</td>\n",
       "      <td>None</td>\n",
       "      <td>None</td>\n",
       "      <td>None</td>\n",
       "    </tr>\n",
       "    <tr>\n",
       "      <th>4775</th>\n",
       "      <td>Cars</td>\n",
       "      <td>None</td>\n",
       "      <td>None</td>\n",
       "      <td>None</td>\n",
       "      <td>None</td>\n",
       "      <td>None</td>\n",
       "    </tr>\n",
       "    <tr>\n",
       "      <th>4776</th>\n",
       "      <td>Lusers</td>\n",
       "      <td>None</td>\n",
       "      <td>None</td>\n",
       "      <td>None</td>\n",
       "      <td>None</td>\n",
       "      <td>None</td>\n",
       "    </tr>\n",
       "    <tr>\n",
       "      <th>4777</th>\n",
       "      <td>A Monster Calls</td>\n",
       "      <td>None</td>\n",
       "      <td>None</td>\n",
       "      <td>None</td>\n",
       "      <td>None</td>\n",
       "      <td>None</td>\n",
       "    </tr>\n",
       "    <tr>\n",
       "      <th>4778</th>\n",
       "      <td>The Simpsons Movie</td>\n",
       "      <td>None</td>\n",
       "      <td>None</td>\n",
       "      <td>None</td>\n",
       "      <td>None</td>\n",
       "      <td>None</td>\n",
       "    </tr>\n",
       "  </tbody>\n",
       "</table>\n",
       "<p>4779 rows × 6 columns</p>\n",
       "</div>"
      ],
      "text/plain": [
       "                  nivel1     nivel2                      nivel3 nivel4 nivel5  \\\n",
       "0             Squid Game   Season 1   The Man with the Umbrella   None   None   \n",
       "1             Squid Game   Season 1                        Hell   None   None   \n",
       "2             Squid Game   Season 1      Red Light, Green Light   None   None   \n",
       "3             Squid Game   Season 1                      Gganbu   None   None   \n",
       "4             Squid Game   Season 1                A Fair World   None   None   \n",
       "...                  ...        ...                         ...    ...    ...   \n",
       "4774         The Do-Over       None                        None   None   None   \n",
       "4775                Cars       None                        None   None   None   \n",
       "4776              Lusers       None                        None   None   None   \n",
       "4777     A Monster Calls       None                        None   None   None   \n",
       "4778  The Simpsons Movie       None                        None   None   None   \n",
       "\n",
       "     nivel6  \n",
       "0      None  \n",
       "1      None  \n",
       "2      None  \n",
       "3      None  \n",
       "4      None  \n",
       "...     ...  \n",
       "4774   None  \n",
       "4775   None  \n",
       "4776   None  \n",
       "4777   None  \n",
       "4778   None  \n",
       "\n",
       "[4779 rows x 6 columns]"
      ]
     },
     "execution_count": 43,
     "metadata": {},
     "output_type": "execute_result"
    }
   ],
   "source": [
    "separacion_cols.columns = ['nivel1','nivel2','nivel3','nivel4','nivel5', 'nivel6']\n",
    "separacion_cols"
   ]
  },
  {
   "cell_type": "code",
   "execution_count": 44,
   "metadata": {
    "colab": {
     "base_uri": "https://localhost:8080/",
     "height": 424
    },
    "id": "ix7_i_q3umdw",
    "outputId": "f1967a46-c64a-457a-9cf8-060d57d57a3c"
   },
   "outputs": [
    {
     "data": {
      "text/html": [
       "<div>\n",
       "<style scoped>\n",
       "    .dataframe tbody tr th:only-of-type {\n",
       "        vertical-align: middle;\n",
       "    }\n",
       "\n",
       "    .dataframe tbody tr th {\n",
       "        vertical-align: top;\n",
       "    }\n",
       "\n",
       "    .dataframe thead th {\n",
       "        text-align: right;\n",
       "    }\n",
       "</style>\n",
       "<table border=\"1\" class=\"dataframe\">\n",
       "  <thead>\n",
       "    <tr style=\"text-align: right;\">\n",
       "      <th></th>\n",
       "      <th>Title</th>\n",
       "      <th>Date</th>\n",
       "      <th>tipo</th>\n",
       "      <th>nivel1</th>\n",
       "      <th>nivel2</th>\n",
       "      <th>nivel3</th>\n",
       "      <th>nivel4</th>\n",
       "      <th>nivel5</th>\n",
       "      <th>nivel6</th>\n",
       "    </tr>\n",
       "  </thead>\n",
       "  <tbody>\n",
       "    <tr>\n",
       "      <th>0</th>\n",
       "      <td>Squid Game: Season 1: The Man with the Umbrella</td>\n",
       "      <td>10/4/21</td>\n",
       "      <td>serie</td>\n",
       "      <td>Squid Game</td>\n",
       "      <td>Season 1</td>\n",
       "      <td>The Man with the Umbrella</td>\n",
       "      <td>None</td>\n",
       "      <td>None</td>\n",
       "      <td>None</td>\n",
       "    </tr>\n",
       "    <tr>\n",
       "      <th>1</th>\n",
       "      <td>Squid Game: Season 1: Hell</td>\n",
       "      <td>10/4/21</td>\n",
       "      <td>serie</td>\n",
       "      <td>Squid Game</td>\n",
       "      <td>Season 1</td>\n",
       "      <td>Hell</td>\n",
       "      <td>None</td>\n",
       "      <td>None</td>\n",
       "      <td>None</td>\n",
       "    </tr>\n",
       "    <tr>\n",
       "      <th>2</th>\n",
       "      <td>Squid Game: Season 1: Red Light, Green Light</td>\n",
       "      <td>10/4/21</td>\n",
       "      <td>serie</td>\n",
       "      <td>Squid Game</td>\n",
       "      <td>Season 1</td>\n",
       "      <td>Red Light, Green Light</td>\n",
       "      <td>None</td>\n",
       "      <td>None</td>\n",
       "      <td>None</td>\n",
       "    </tr>\n",
       "    <tr>\n",
       "      <th>3</th>\n",
       "      <td>Squid Game: Season 1: Gganbu</td>\n",
       "      <td>10/4/21</td>\n",
       "      <td>serie</td>\n",
       "      <td>Squid Game</td>\n",
       "      <td>Season 1</td>\n",
       "      <td>Gganbu</td>\n",
       "      <td>None</td>\n",
       "      <td>None</td>\n",
       "      <td>None</td>\n",
       "    </tr>\n",
       "    <tr>\n",
       "      <th>4</th>\n",
       "      <td>Squid Game: Season 1: A Fair World</td>\n",
       "      <td>10/4/21</td>\n",
       "      <td>serie</td>\n",
       "      <td>Squid Game</td>\n",
       "      <td>Season 1</td>\n",
       "      <td>A Fair World</td>\n",
       "      <td>None</td>\n",
       "      <td>None</td>\n",
       "      <td>None</td>\n",
       "    </tr>\n",
       "    <tr>\n",
       "      <th>...</th>\n",
       "      <td>...</td>\n",
       "      <td>...</td>\n",
       "      <td>...</td>\n",
       "      <td>...</td>\n",
       "      <td>...</td>\n",
       "      <td>...</td>\n",
       "      <td>...</td>\n",
       "      <td>...</td>\n",
       "      <td>...</td>\n",
       "    </tr>\n",
       "    <tr>\n",
       "      <th>4774</th>\n",
       "      <td>The Do-Over</td>\n",
       "      <td>3/13/18</td>\n",
       "      <td>pelicula</td>\n",
       "      <td>The Do-Over</td>\n",
       "      <td>None</td>\n",
       "      <td>None</td>\n",
       "      <td>None</td>\n",
       "      <td>None</td>\n",
       "      <td>None</td>\n",
       "    </tr>\n",
       "    <tr>\n",
       "      <th>4775</th>\n",
       "      <td>Cars</td>\n",
       "      <td>3/12/18</td>\n",
       "      <td>pelicula</td>\n",
       "      <td>Cars</td>\n",
       "      <td>None</td>\n",
       "      <td>None</td>\n",
       "      <td>None</td>\n",
       "      <td>None</td>\n",
       "      <td>None</td>\n",
       "    </tr>\n",
       "    <tr>\n",
       "      <th>4776</th>\n",
       "      <td>Lusers</td>\n",
       "      <td>2/17/18</td>\n",
       "      <td>pelicula</td>\n",
       "      <td>Lusers</td>\n",
       "      <td>None</td>\n",
       "      <td>None</td>\n",
       "      <td>None</td>\n",
       "      <td>None</td>\n",
       "      <td>None</td>\n",
       "    </tr>\n",
       "    <tr>\n",
       "      <th>4777</th>\n",
       "      <td>A Monster Calls</td>\n",
       "      <td>2/14/18</td>\n",
       "      <td>pelicula</td>\n",
       "      <td>A Monster Calls</td>\n",
       "      <td>None</td>\n",
       "      <td>None</td>\n",
       "      <td>None</td>\n",
       "      <td>None</td>\n",
       "      <td>None</td>\n",
       "    </tr>\n",
       "    <tr>\n",
       "      <th>4778</th>\n",
       "      <td>The Simpsons Movie</td>\n",
       "      <td>2/13/18</td>\n",
       "      <td>pelicula</td>\n",
       "      <td>The Simpsons Movie</td>\n",
       "      <td>None</td>\n",
       "      <td>None</td>\n",
       "      <td>None</td>\n",
       "      <td>None</td>\n",
       "      <td>None</td>\n",
       "    </tr>\n",
       "  </tbody>\n",
       "</table>\n",
       "<p>4779 rows × 9 columns</p>\n",
       "</div>"
      ],
      "text/plain": [
       "                                                Title     Date      tipo  \\\n",
       "0     Squid Game: Season 1: The Man with the Umbrella  10/4/21     serie   \n",
       "1                          Squid Game: Season 1: Hell  10/4/21     serie   \n",
       "2        Squid Game: Season 1: Red Light, Green Light  10/4/21     serie   \n",
       "3                        Squid Game: Season 1: Gganbu  10/4/21     serie   \n",
       "4                  Squid Game: Season 1: A Fair World  10/4/21     serie   \n",
       "...                                               ...      ...       ...   \n",
       "4774                                      The Do-Over  3/13/18  pelicula   \n",
       "4775                                             Cars  3/12/18  pelicula   \n",
       "4776                                           Lusers  2/17/18  pelicula   \n",
       "4777                                  A Monster Calls  2/14/18  pelicula   \n",
       "4778                               The Simpsons Movie  2/13/18  pelicula   \n",
       "\n",
       "                  nivel1     nivel2                      nivel3 nivel4 nivel5  \\\n",
       "0             Squid Game   Season 1   The Man with the Umbrella   None   None   \n",
       "1             Squid Game   Season 1                        Hell   None   None   \n",
       "2             Squid Game   Season 1      Red Light, Green Light   None   None   \n",
       "3             Squid Game   Season 1                      Gganbu   None   None   \n",
       "4             Squid Game   Season 1                A Fair World   None   None   \n",
       "...                  ...        ...                         ...    ...    ...   \n",
       "4774         The Do-Over       None                        None   None   None   \n",
       "4775                Cars       None                        None   None   None   \n",
       "4776              Lusers       None                        None   None   None   \n",
       "4777     A Monster Calls       None                        None   None   None   \n",
       "4778  The Simpsons Movie       None                        None   None   None   \n",
       "\n",
       "     nivel6  \n",
       "0      None  \n",
       "1      None  \n",
       "2      None  \n",
       "3      None  \n",
       "4      None  \n",
       "...     ...  \n",
       "4774   None  \n",
       "4775   None  \n",
       "4776   None  \n",
       "4777   None  \n",
       "4778   None  \n",
       "\n",
       "[4779 rows x 9 columns]"
      ]
     },
     "execution_count": 44,
     "metadata": {},
     "output_type": "execute_result"
    }
   ],
   "source": [
    "#juntamos a la data actual\n",
    "data = pd.concat([data,separacion_cols], axis = 1)\n",
    "data "
   ]
  },
  {
   "cell_type": "markdown",
   "metadata": {
    "id": "60NkSiYI6IlR"
   },
   "source": [
    "### 3.2 Variables derivadas de la fecha"
   ]
  },
  {
   "cell_type": "markdown",
   "metadata": {
    "id": "qH5-t8U1-cfv"
   },
   "source": [
    "Podemos extraer los diferentes compontentes de una fecha para generar nuevas variables."
   ]
  },
  {
   "cell_type": "code",
   "execution_count": 45,
   "metadata": {
    "colab": {
     "base_uri": "https://localhost:8080/",
     "height": 424
    },
    "id": "mHWXNdY5uy14",
    "outputId": "f1db39de-63d5-4c0d-e93b-1000e3dce461"
   },
   "outputs": [
    {
     "data": {
      "text/html": [
       "<div>\n",
       "<style scoped>\n",
       "    .dataframe tbody tr th:only-of-type {\n",
       "        vertical-align: middle;\n",
       "    }\n",
       "\n",
       "    .dataframe tbody tr th {\n",
       "        vertical-align: top;\n",
       "    }\n",
       "\n",
       "    .dataframe thead th {\n",
       "        text-align: right;\n",
       "    }\n",
       "</style>\n",
       "<table border=\"1\" class=\"dataframe\">\n",
       "  <thead>\n",
       "    <tr style=\"text-align: right;\">\n",
       "      <th></th>\n",
       "      <th>Title</th>\n",
       "      <th>tipo</th>\n",
       "      <th>nivel1</th>\n",
       "      <th>nivel2</th>\n",
       "      <th>nivel3</th>\n",
       "      <th>nivel4</th>\n",
       "      <th>nivel5</th>\n",
       "      <th>nivel6</th>\n",
       "      <th>fecha</th>\n",
       "    </tr>\n",
       "  </thead>\n",
       "  <tbody>\n",
       "    <tr>\n",
       "      <th>0</th>\n",
       "      <td>Squid Game: Season 1: The Man with the Umbrella</td>\n",
       "      <td>serie</td>\n",
       "      <td>Squid Game</td>\n",
       "      <td>Season 1</td>\n",
       "      <td>The Man with the Umbrella</td>\n",
       "      <td>None</td>\n",
       "      <td>None</td>\n",
       "      <td>None</td>\n",
       "      <td>2021-10-04</td>\n",
       "    </tr>\n",
       "    <tr>\n",
       "      <th>1</th>\n",
       "      <td>Squid Game: Season 1: Hell</td>\n",
       "      <td>serie</td>\n",
       "      <td>Squid Game</td>\n",
       "      <td>Season 1</td>\n",
       "      <td>Hell</td>\n",
       "      <td>None</td>\n",
       "      <td>None</td>\n",
       "      <td>None</td>\n",
       "      <td>2021-10-04</td>\n",
       "    </tr>\n",
       "    <tr>\n",
       "      <th>2</th>\n",
       "      <td>Squid Game: Season 1: Red Light, Green Light</td>\n",
       "      <td>serie</td>\n",
       "      <td>Squid Game</td>\n",
       "      <td>Season 1</td>\n",
       "      <td>Red Light, Green Light</td>\n",
       "      <td>None</td>\n",
       "      <td>None</td>\n",
       "      <td>None</td>\n",
       "      <td>2021-10-04</td>\n",
       "    </tr>\n",
       "    <tr>\n",
       "      <th>3</th>\n",
       "      <td>Squid Game: Season 1: Gganbu</td>\n",
       "      <td>serie</td>\n",
       "      <td>Squid Game</td>\n",
       "      <td>Season 1</td>\n",
       "      <td>Gganbu</td>\n",
       "      <td>None</td>\n",
       "      <td>None</td>\n",
       "      <td>None</td>\n",
       "      <td>2021-10-04</td>\n",
       "    </tr>\n",
       "    <tr>\n",
       "      <th>4</th>\n",
       "      <td>Squid Game: Season 1: A Fair World</td>\n",
       "      <td>serie</td>\n",
       "      <td>Squid Game</td>\n",
       "      <td>Season 1</td>\n",
       "      <td>A Fair World</td>\n",
       "      <td>None</td>\n",
       "      <td>None</td>\n",
       "      <td>None</td>\n",
       "      <td>2021-10-04</td>\n",
       "    </tr>\n",
       "    <tr>\n",
       "      <th>...</th>\n",
       "      <td>...</td>\n",
       "      <td>...</td>\n",
       "      <td>...</td>\n",
       "      <td>...</td>\n",
       "      <td>...</td>\n",
       "      <td>...</td>\n",
       "      <td>...</td>\n",
       "      <td>...</td>\n",
       "      <td>...</td>\n",
       "    </tr>\n",
       "    <tr>\n",
       "      <th>4774</th>\n",
       "      <td>The Do-Over</td>\n",
       "      <td>pelicula</td>\n",
       "      <td>The Do-Over</td>\n",
       "      <td>None</td>\n",
       "      <td>None</td>\n",
       "      <td>None</td>\n",
       "      <td>None</td>\n",
       "      <td>None</td>\n",
       "      <td>2018-03-13</td>\n",
       "    </tr>\n",
       "    <tr>\n",
       "      <th>4775</th>\n",
       "      <td>Cars</td>\n",
       "      <td>pelicula</td>\n",
       "      <td>Cars</td>\n",
       "      <td>None</td>\n",
       "      <td>None</td>\n",
       "      <td>None</td>\n",
       "      <td>None</td>\n",
       "      <td>None</td>\n",
       "      <td>2018-03-12</td>\n",
       "    </tr>\n",
       "    <tr>\n",
       "      <th>4776</th>\n",
       "      <td>Lusers</td>\n",
       "      <td>pelicula</td>\n",
       "      <td>Lusers</td>\n",
       "      <td>None</td>\n",
       "      <td>None</td>\n",
       "      <td>None</td>\n",
       "      <td>None</td>\n",
       "      <td>None</td>\n",
       "      <td>2018-02-17</td>\n",
       "    </tr>\n",
       "    <tr>\n",
       "      <th>4777</th>\n",
       "      <td>A Monster Calls</td>\n",
       "      <td>pelicula</td>\n",
       "      <td>A Monster Calls</td>\n",
       "      <td>None</td>\n",
       "      <td>None</td>\n",
       "      <td>None</td>\n",
       "      <td>None</td>\n",
       "      <td>None</td>\n",
       "      <td>2018-02-14</td>\n",
       "    </tr>\n",
       "    <tr>\n",
       "      <th>4778</th>\n",
       "      <td>The Simpsons Movie</td>\n",
       "      <td>pelicula</td>\n",
       "      <td>The Simpsons Movie</td>\n",
       "      <td>None</td>\n",
       "      <td>None</td>\n",
       "      <td>None</td>\n",
       "      <td>None</td>\n",
       "      <td>None</td>\n",
       "      <td>2018-02-13</td>\n",
       "    </tr>\n",
       "  </tbody>\n",
       "</table>\n",
       "<p>4779 rows × 9 columns</p>\n",
       "</div>"
      ],
      "text/plain": [
       "                                                Title      tipo  \\\n",
       "0     Squid Game: Season 1: The Man with the Umbrella     serie   \n",
       "1                          Squid Game: Season 1: Hell     serie   \n",
       "2        Squid Game: Season 1: Red Light, Green Light     serie   \n",
       "3                        Squid Game: Season 1: Gganbu     serie   \n",
       "4                  Squid Game: Season 1: A Fair World     serie   \n",
       "...                                               ...       ...   \n",
       "4774                                      The Do-Over  pelicula   \n",
       "4775                                             Cars  pelicula   \n",
       "4776                                           Lusers  pelicula   \n",
       "4777                                  A Monster Calls  pelicula   \n",
       "4778                               The Simpsons Movie  pelicula   \n",
       "\n",
       "                  nivel1     nivel2                      nivel3 nivel4 nivel5  \\\n",
       "0             Squid Game   Season 1   The Man with the Umbrella   None   None   \n",
       "1             Squid Game   Season 1                        Hell   None   None   \n",
       "2             Squid Game   Season 1      Red Light, Green Light   None   None   \n",
       "3             Squid Game   Season 1                      Gganbu   None   None   \n",
       "4             Squid Game   Season 1                A Fair World   None   None   \n",
       "...                  ...        ...                         ...    ...    ...   \n",
       "4774         The Do-Over       None                        None   None   None   \n",
       "4775                Cars       None                        None   None   None   \n",
       "4776              Lusers       None                        None   None   None   \n",
       "4777     A Monster Calls       None                        None   None   None   \n",
       "4778  The Simpsons Movie       None                        None   None   None   \n",
       "\n",
       "     nivel6      fecha  \n",
       "0      None 2021-10-04  \n",
       "1      None 2021-10-04  \n",
       "2      None 2021-10-04  \n",
       "3      None 2021-10-04  \n",
       "4      None 2021-10-04  \n",
       "...     ...        ...  \n",
       "4774   None 2018-03-13  \n",
       "4775   None 2018-03-12  \n",
       "4776   None 2018-02-17  \n",
       "4777   None 2018-02-14  \n",
       "4778   None 2018-02-13  \n",
       "\n",
       "[4779 rows x 9 columns]"
      ]
     },
     "execution_count": 45,
     "metadata": {},
     "output_type": "execute_result"
    }
   ],
   "source": [
    "data['fecha'] = pd.to_datetime(data['Date'])\n",
    "data.drop(columns = 'Date',inplace = True)\n",
    "data "
   ]
  },
  {
   "cell_type": "code",
   "execution_count": 46,
   "metadata": {
    "colab": {
     "base_uri": "https://localhost:8080/",
     "height": 455
    },
    "id": "bdST1qJBy7YQ",
    "outputId": "74b474b2-35ea-4e30-866e-89fc669f84c0"
   },
   "outputs": [
    {
     "data": {
      "text/html": [
       "<div>\n",
       "<style scoped>\n",
       "    .dataframe tbody tr th:only-of-type {\n",
       "        vertical-align: middle;\n",
       "    }\n",
       "\n",
       "    .dataframe tbody tr th {\n",
       "        vertical-align: top;\n",
       "    }\n",
       "\n",
       "    .dataframe thead th {\n",
       "        text-align: right;\n",
       "    }\n",
       "</style>\n",
       "<table border=\"1\" class=\"dataframe\">\n",
       "  <thead>\n",
       "    <tr style=\"text-align: right;\">\n",
       "      <th></th>\n",
       "      <th>Title</th>\n",
       "      <th>tipo</th>\n",
       "      <th>nivel1</th>\n",
       "      <th>nivel2</th>\n",
       "      <th>nivel3</th>\n",
       "      <th>nivel4</th>\n",
       "      <th>nivel5</th>\n",
       "      <th>nivel6</th>\n",
       "    </tr>\n",
       "    <tr>\n",
       "      <th>fecha</th>\n",
       "      <th></th>\n",
       "      <th></th>\n",
       "      <th></th>\n",
       "      <th></th>\n",
       "      <th></th>\n",
       "      <th></th>\n",
       "      <th></th>\n",
       "      <th></th>\n",
       "    </tr>\n",
       "  </thead>\n",
       "  <tbody>\n",
       "    <tr>\n",
       "      <th>2021-10-04</th>\n",
       "      <td>Squid Game: Season 1: The Man with the Umbrella</td>\n",
       "      <td>serie</td>\n",
       "      <td>Squid Game</td>\n",
       "      <td>Season 1</td>\n",
       "      <td>The Man with the Umbrella</td>\n",
       "      <td>None</td>\n",
       "      <td>None</td>\n",
       "      <td>None</td>\n",
       "    </tr>\n",
       "    <tr>\n",
       "      <th>2021-10-04</th>\n",
       "      <td>Squid Game: Season 1: Hell</td>\n",
       "      <td>serie</td>\n",
       "      <td>Squid Game</td>\n",
       "      <td>Season 1</td>\n",
       "      <td>Hell</td>\n",
       "      <td>None</td>\n",
       "      <td>None</td>\n",
       "      <td>None</td>\n",
       "    </tr>\n",
       "    <tr>\n",
       "      <th>2021-10-04</th>\n",
       "      <td>Squid Game: Season 1: Red Light, Green Light</td>\n",
       "      <td>serie</td>\n",
       "      <td>Squid Game</td>\n",
       "      <td>Season 1</td>\n",
       "      <td>Red Light, Green Light</td>\n",
       "      <td>None</td>\n",
       "      <td>None</td>\n",
       "      <td>None</td>\n",
       "    </tr>\n",
       "    <tr>\n",
       "      <th>2021-10-04</th>\n",
       "      <td>Squid Game: Season 1: Gganbu</td>\n",
       "      <td>serie</td>\n",
       "      <td>Squid Game</td>\n",
       "      <td>Season 1</td>\n",
       "      <td>Gganbu</td>\n",
       "      <td>None</td>\n",
       "      <td>None</td>\n",
       "      <td>None</td>\n",
       "    </tr>\n",
       "    <tr>\n",
       "      <th>2021-10-04</th>\n",
       "      <td>Squid Game: Season 1: A Fair World</td>\n",
       "      <td>serie</td>\n",
       "      <td>Squid Game</td>\n",
       "      <td>Season 1</td>\n",
       "      <td>A Fair World</td>\n",
       "      <td>None</td>\n",
       "      <td>None</td>\n",
       "      <td>None</td>\n",
       "    </tr>\n",
       "    <tr>\n",
       "      <th>...</th>\n",
       "      <td>...</td>\n",
       "      <td>...</td>\n",
       "      <td>...</td>\n",
       "      <td>...</td>\n",
       "      <td>...</td>\n",
       "      <td>...</td>\n",
       "      <td>...</td>\n",
       "      <td>...</td>\n",
       "    </tr>\n",
       "    <tr>\n",
       "      <th>2018-03-13</th>\n",
       "      <td>The Do-Over</td>\n",
       "      <td>pelicula</td>\n",
       "      <td>The Do-Over</td>\n",
       "      <td>None</td>\n",
       "      <td>None</td>\n",
       "      <td>None</td>\n",
       "      <td>None</td>\n",
       "      <td>None</td>\n",
       "    </tr>\n",
       "    <tr>\n",
       "      <th>2018-03-12</th>\n",
       "      <td>Cars</td>\n",
       "      <td>pelicula</td>\n",
       "      <td>Cars</td>\n",
       "      <td>None</td>\n",
       "      <td>None</td>\n",
       "      <td>None</td>\n",
       "      <td>None</td>\n",
       "      <td>None</td>\n",
       "    </tr>\n",
       "    <tr>\n",
       "      <th>2018-02-17</th>\n",
       "      <td>Lusers</td>\n",
       "      <td>pelicula</td>\n",
       "      <td>Lusers</td>\n",
       "      <td>None</td>\n",
       "      <td>None</td>\n",
       "      <td>None</td>\n",
       "      <td>None</td>\n",
       "      <td>None</td>\n",
       "    </tr>\n",
       "    <tr>\n",
       "      <th>2018-02-14</th>\n",
       "      <td>A Monster Calls</td>\n",
       "      <td>pelicula</td>\n",
       "      <td>A Monster Calls</td>\n",
       "      <td>None</td>\n",
       "      <td>None</td>\n",
       "      <td>None</td>\n",
       "      <td>None</td>\n",
       "      <td>None</td>\n",
       "    </tr>\n",
       "    <tr>\n",
       "      <th>2018-02-13</th>\n",
       "      <td>The Simpsons Movie</td>\n",
       "      <td>pelicula</td>\n",
       "      <td>The Simpsons Movie</td>\n",
       "      <td>None</td>\n",
       "      <td>None</td>\n",
       "      <td>None</td>\n",
       "      <td>None</td>\n",
       "      <td>None</td>\n",
       "    </tr>\n",
       "  </tbody>\n",
       "</table>\n",
       "<p>4779 rows × 8 columns</p>\n",
       "</div>"
      ],
      "text/plain": [
       "                                                      Title      tipo  \\\n",
       "fecha                                                                   \n",
       "2021-10-04  Squid Game: Season 1: The Man with the Umbrella     serie   \n",
       "2021-10-04                       Squid Game: Season 1: Hell     serie   \n",
       "2021-10-04     Squid Game: Season 1: Red Light, Green Light     serie   \n",
       "2021-10-04                     Squid Game: Season 1: Gganbu     serie   \n",
       "2021-10-04               Squid Game: Season 1: A Fair World     serie   \n",
       "...                                                     ...       ...   \n",
       "2018-03-13                                      The Do-Over  pelicula   \n",
       "2018-03-12                                             Cars  pelicula   \n",
       "2018-02-17                                           Lusers  pelicula   \n",
       "2018-02-14                                  A Monster Calls  pelicula   \n",
       "2018-02-13                               The Simpsons Movie  pelicula   \n",
       "\n",
       "                        nivel1     nivel2                      nivel3 nivel4  \\\n",
       "fecha                                                                          \n",
       "2021-10-04          Squid Game   Season 1   The Man with the Umbrella   None   \n",
       "2021-10-04          Squid Game   Season 1                        Hell   None   \n",
       "2021-10-04          Squid Game   Season 1      Red Light, Green Light   None   \n",
       "2021-10-04          Squid Game   Season 1                      Gganbu   None   \n",
       "2021-10-04          Squid Game   Season 1                A Fair World   None   \n",
       "...                        ...        ...                         ...    ...   \n",
       "2018-03-13         The Do-Over       None                        None   None   \n",
       "2018-03-12                Cars       None                        None   None   \n",
       "2018-02-17              Lusers       None                        None   None   \n",
       "2018-02-14     A Monster Calls       None                        None   None   \n",
       "2018-02-13  The Simpsons Movie       None                        None   None   \n",
       "\n",
       "           nivel5 nivel6  \n",
       "fecha                     \n",
       "2021-10-04   None   None  \n",
       "2021-10-04   None   None  \n",
       "2021-10-04   None   None  \n",
       "2021-10-04   None   None  \n",
       "2021-10-04   None   None  \n",
       "...           ...    ...  \n",
       "2018-03-13   None   None  \n",
       "2018-03-12   None   None  \n",
       "2018-02-17   None   None  \n",
       "2018-02-14   None   None  \n",
       "2018-02-13   None   None  \n",
       "\n",
       "[4779 rows x 8 columns]"
      ]
     },
     "execution_count": 46,
     "metadata": {},
     "output_type": "execute_result"
    }
   ],
   "source": [
    "data.set_index('fecha', inplace = True)\n",
    "data"
   ]
  },
  {
   "cell_type": "markdown",
   "metadata": {
    "id": "JlIIQbCl-kVg"
   },
   "source": [
    "Creamos una función para extraer los componentes."
   ]
  },
  {
   "cell_type": "code",
   "execution_count": 47,
   "metadata": {
    "id": "ZDT-1wTKzk0X"
   },
   "outputs": [],
   "source": [
    "def atributos_fechas(df):\n",
    "  df['año'] = data.index.year\n",
    "  df['mes'] = data.index.month_name()\n",
    "  df['dia_mes'] = data.index.day\n",
    "  df['dia_semana'] = data.index.day_name()\n",
    "  return(df)"
   ]
  },
  {
   "cell_type": "code",
   "execution_count": 48,
   "metadata": {
    "colab": {
     "base_uri": "https://localhost:8080/",
     "height": 455
    },
    "id": "vb4zUu9P0dmn",
    "outputId": "b24bb79f-21d7-4775-c45b-0e13cbd7f3b5"
   },
   "outputs": [
    {
     "data": {
      "text/html": [
       "<div>\n",
       "<style scoped>\n",
       "    .dataframe tbody tr th:only-of-type {\n",
       "        vertical-align: middle;\n",
       "    }\n",
       "\n",
       "    .dataframe tbody tr th {\n",
       "        vertical-align: top;\n",
       "    }\n",
       "\n",
       "    .dataframe thead th {\n",
       "        text-align: right;\n",
       "    }\n",
       "</style>\n",
       "<table border=\"1\" class=\"dataframe\">\n",
       "  <thead>\n",
       "    <tr style=\"text-align: right;\">\n",
       "      <th></th>\n",
       "      <th>Title</th>\n",
       "      <th>tipo</th>\n",
       "      <th>nivel1</th>\n",
       "      <th>nivel2</th>\n",
       "      <th>nivel3</th>\n",
       "      <th>nivel4</th>\n",
       "      <th>nivel5</th>\n",
       "      <th>nivel6</th>\n",
       "      <th>año</th>\n",
       "      <th>mes</th>\n",
       "      <th>dia_mes</th>\n",
       "      <th>dia_semana</th>\n",
       "    </tr>\n",
       "    <tr>\n",
       "      <th>fecha</th>\n",
       "      <th></th>\n",
       "      <th></th>\n",
       "      <th></th>\n",
       "      <th></th>\n",
       "      <th></th>\n",
       "      <th></th>\n",
       "      <th></th>\n",
       "      <th></th>\n",
       "      <th></th>\n",
       "      <th></th>\n",
       "      <th></th>\n",
       "      <th></th>\n",
       "    </tr>\n",
       "  </thead>\n",
       "  <tbody>\n",
       "    <tr>\n",
       "      <th>2021-10-04</th>\n",
       "      <td>Squid Game: Season 1: The Man with the Umbrella</td>\n",
       "      <td>serie</td>\n",
       "      <td>Squid Game</td>\n",
       "      <td>Season 1</td>\n",
       "      <td>The Man with the Umbrella</td>\n",
       "      <td>None</td>\n",
       "      <td>None</td>\n",
       "      <td>None</td>\n",
       "      <td>2021</td>\n",
       "      <td>October</td>\n",
       "      <td>4</td>\n",
       "      <td>Monday</td>\n",
       "    </tr>\n",
       "    <tr>\n",
       "      <th>2021-10-04</th>\n",
       "      <td>Squid Game: Season 1: Hell</td>\n",
       "      <td>serie</td>\n",
       "      <td>Squid Game</td>\n",
       "      <td>Season 1</td>\n",
       "      <td>Hell</td>\n",
       "      <td>None</td>\n",
       "      <td>None</td>\n",
       "      <td>None</td>\n",
       "      <td>2021</td>\n",
       "      <td>October</td>\n",
       "      <td>4</td>\n",
       "      <td>Monday</td>\n",
       "    </tr>\n",
       "    <tr>\n",
       "      <th>2021-10-04</th>\n",
       "      <td>Squid Game: Season 1: Red Light, Green Light</td>\n",
       "      <td>serie</td>\n",
       "      <td>Squid Game</td>\n",
       "      <td>Season 1</td>\n",
       "      <td>Red Light, Green Light</td>\n",
       "      <td>None</td>\n",
       "      <td>None</td>\n",
       "      <td>None</td>\n",
       "      <td>2021</td>\n",
       "      <td>October</td>\n",
       "      <td>4</td>\n",
       "      <td>Monday</td>\n",
       "    </tr>\n",
       "    <tr>\n",
       "      <th>2021-10-04</th>\n",
       "      <td>Squid Game: Season 1: Gganbu</td>\n",
       "      <td>serie</td>\n",
       "      <td>Squid Game</td>\n",
       "      <td>Season 1</td>\n",
       "      <td>Gganbu</td>\n",
       "      <td>None</td>\n",
       "      <td>None</td>\n",
       "      <td>None</td>\n",
       "      <td>2021</td>\n",
       "      <td>October</td>\n",
       "      <td>4</td>\n",
       "      <td>Monday</td>\n",
       "    </tr>\n",
       "    <tr>\n",
       "      <th>2021-10-04</th>\n",
       "      <td>Squid Game: Season 1: A Fair World</td>\n",
       "      <td>serie</td>\n",
       "      <td>Squid Game</td>\n",
       "      <td>Season 1</td>\n",
       "      <td>A Fair World</td>\n",
       "      <td>None</td>\n",
       "      <td>None</td>\n",
       "      <td>None</td>\n",
       "      <td>2021</td>\n",
       "      <td>October</td>\n",
       "      <td>4</td>\n",
       "      <td>Monday</td>\n",
       "    </tr>\n",
       "    <tr>\n",
       "      <th>...</th>\n",
       "      <td>...</td>\n",
       "      <td>...</td>\n",
       "      <td>...</td>\n",
       "      <td>...</td>\n",
       "      <td>...</td>\n",
       "      <td>...</td>\n",
       "      <td>...</td>\n",
       "      <td>...</td>\n",
       "      <td>...</td>\n",
       "      <td>...</td>\n",
       "      <td>...</td>\n",
       "      <td>...</td>\n",
       "    </tr>\n",
       "    <tr>\n",
       "      <th>2018-03-13</th>\n",
       "      <td>The Do-Over</td>\n",
       "      <td>pelicula</td>\n",
       "      <td>The Do-Over</td>\n",
       "      <td>None</td>\n",
       "      <td>None</td>\n",
       "      <td>None</td>\n",
       "      <td>None</td>\n",
       "      <td>None</td>\n",
       "      <td>2018</td>\n",
       "      <td>March</td>\n",
       "      <td>13</td>\n",
       "      <td>Tuesday</td>\n",
       "    </tr>\n",
       "    <tr>\n",
       "      <th>2018-03-12</th>\n",
       "      <td>Cars</td>\n",
       "      <td>pelicula</td>\n",
       "      <td>Cars</td>\n",
       "      <td>None</td>\n",
       "      <td>None</td>\n",
       "      <td>None</td>\n",
       "      <td>None</td>\n",
       "      <td>None</td>\n",
       "      <td>2018</td>\n",
       "      <td>March</td>\n",
       "      <td>12</td>\n",
       "      <td>Monday</td>\n",
       "    </tr>\n",
       "    <tr>\n",
       "      <th>2018-02-17</th>\n",
       "      <td>Lusers</td>\n",
       "      <td>pelicula</td>\n",
       "      <td>Lusers</td>\n",
       "      <td>None</td>\n",
       "      <td>None</td>\n",
       "      <td>None</td>\n",
       "      <td>None</td>\n",
       "      <td>None</td>\n",
       "      <td>2018</td>\n",
       "      <td>February</td>\n",
       "      <td>17</td>\n",
       "      <td>Saturday</td>\n",
       "    </tr>\n",
       "    <tr>\n",
       "      <th>2018-02-14</th>\n",
       "      <td>A Monster Calls</td>\n",
       "      <td>pelicula</td>\n",
       "      <td>A Monster Calls</td>\n",
       "      <td>None</td>\n",
       "      <td>None</td>\n",
       "      <td>None</td>\n",
       "      <td>None</td>\n",
       "      <td>None</td>\n",
       "      <td>2018</td>\n",
       "      <td>February</td>\n",
       "      <td>14</td>\n",
       "      <td>Wednesday</td>\n",
       "    </tr>\n",
       "    <tr>\n",
       "      <th>2018-02-13</th>\n",
       "      <td>The Simpsons Movie</td>\n",
       "      <td>pelicula</td>\n",
       "      <td>The Simpsons Movie</td>\n",
       "      <td>None</td>\n",
       "      <td>None</td>\n",
       "      <td>None</td>\n",
       "      <td>None</td>\n",
       "      <td>None</td>\n",
       "      <td>2018</td>\n",
       "      <td>February</td>\n",
       "      <td>13</td>\n",
       "      <td>Tuesday</td>\n",
       "    </tr>\n",
       "  </tbody>\n",
       "</table>\n",
       "<p>4779 rows × 12 columns</p>\n",
       "</div>"
      ],
      "text/plain": [
       "                                                      Title      tipo  \\\n",
       "fecha                                                                   \n",
       "2021-10-04  Squid Game: Season 1: The Man with the Umbrella     serie   \n",
       "2021-10-04                       Squid Game: Season 1: Hell     serie   \n",
       "2021-10-04     Squid Game: Season 1: Red Light, Green Light     serie   \n",
       "2021-10-04                     Squid Game: Season 1: Gganbu     serie   \n",
       "2021-10-04               Squid Game: Season 1: A Fair World     serie   \n",
       "...                                                     ...       ...   \n",
       "2018-03-13                                      The Do-Over  pelicula   \n",
       "2018-03-12                                             Cars  pelicula   \n",
       "2018-02-17                                           Lusers  pelicula   \n",
       "2018-02-14                                  A Monster Calls  pelicula   \n",
       "2018-02-13                               The Simpsons Movie  pelicula   \n",
       "\n",
       "                        nivel1     nivel2                      nivel3 nivel4  \\\n",
       "fecha                                                                          \n",
       "2021-10-04          Squid Game   Season 1   The Man with the Umbrella   None   \n",
       "2021-10-04          Squid Game   Season 1                        Hell   None   \n",
       "2021-10-04          Squid Game   Season 1      Red Light, Green Light   None   \n",
       "2021-10-04          Squid Game   Season 1                      Gganbu   None   \n",
       "2021-10-04          Squid Game   Season 1                A Fair World   None   \n",
       "...                        ...        ...                         ...    ...   \n",
       "2018-03-13         The Do-Over       None                        None   None   \n",
       "2018-03-12                Cars       None                        None   None   \n",
       "2018-02-17              Lusers       None                        None   None   \n",
       "2018-02-14     A Monster Calls       None                        None   None   \n",
       "2018-02-13  The Simpsons Movie       None                        None   None   \n",
       "\n",
       "           nivel5 nivel6   año       mes  dia_mes dia_semana  \n",
       "fecha                                                         \n",
       "2021-10-04   None   None  2021   October        4     Monday  \n",
       "2021-10-04   None   None  2021   October        4     Monday  \n",
       "2021-10-04   None   None  2021   October        4     Monday  \n",
       "2021-10-04   None   None  2021   October        4     Monday  \n",
       "2021-10-04   None   None  2021   October        4     Monday  \n",
       "...           ...    ...   ...       ...      ...        ...  \n",
       "2018-03-13   None   None  2018     March       13    Tuesday  \n",
       "2018-03-12   None   None  2018     March       12     Monday  \n",
       "2018-02-17   None   None  2018  February       17   Saturday  \n",
       "2018-02-14   None   None  2018  February       14  Wednesday  \n",
       "2018-02-13   None   None  2018  February       13    Tuesday  \n",
       "\n",
       "[4779 rows x 12 columns]"
      ]
     },
     "execution_count": 48,
     "metadata": {},
     "output_type": "execute_result"
    }
   ],
   "source": [
    "atributos_fechas(data)"
   ]
  },
  {
   "cell_type": "markdown",
   "metadata": {
    "id": "zb0g0-lk54m4"
   },
   "source": [
    "## 4. Análisis de consumo en base al nuevo dataset"
   ]
  },
  {
   "cell_type": "markdown",
   "metadata": {
    "id": "bBs1wXCx2c_b"
   },
   "source": [
    "<b>¿Cuánto tiempo llevo consumiendo Netflix?</b>"
   ]
  },
  {
   "cell_type": "code",
   "execution_count": 50,
   "metadata": {
    "colab": {
     "base_uri": "https://localhost:8080/"
    },
    "id": "kwzFRobE0hOA",
    "outputId": "4ce42fa3-61e3-4dc4-aca4-272676672f15",
    "scrolled": true
   },
   "outputs": [
    {
     "name": "stdout",
     "output_type": "stream",
     "text": [
      "Alonso, llevas usando Netflix 1329 dias\n"
     ]
    }
   ],
   "source": [
    "from datetime import date\n",
    "\n",
    "hoy = pd.Timestamp(date.today())\n",
    "\n",
    "primer_dia = data.index.min()\n",
    "\n",
    "tiempo = hoy - primer_dia\n",
    "\n",
    "print(f'Alonso, llevas usando Netflix {tiempo.days} dias')"
   ]
  },
  {
   "cell_type": "markdown",
   "metadata": {
    "id": "YrIzCw8J2mWv"
   },
   "source": [
    "<b>¿Cuánto me he gastado en Netflix hasta ahora?</b>"
   ]
  },
  {
   "cell_type": "code",
   "execution_count": 54,
   "metadata": {
    "colab": {
     "base_uri": "https://localhost:8080/"
    },
    "id": "4T35624W32vp",
    "outputId": "1abc550f-3be9-4ea5-bfa9-00761f997fb2"
   },
   "outputs": [
    {
     "name": "stdout",
     "output_type": "stream",
     "text": [
      "Alonso, hasta ahora te has gastado S/. 509.45 soles en Netflix\n"
     ]
    }
   ],
   "source": [
    "#Coste compartido de 11.50 por persona, en total el pago mensual es de 44.50\n",
    "coste_mensual = 11.50\n",
    "\n",
    "gasto = tiempo.days / 30 * coste_mensual\n",
    "\n",
    "print(f'Alonso, hasta ahora te has gastado S/. {gasto} soles en Netflix')"
   ]
  },
  {
   "cell_type": "markdown",
   "metadata": {
    "id": "hFcZfYmc5haQ"
   },
   "source": [
    "<b>¿Cuánto tiempo de mi vida le dedico cada año a Netflix?</b>"
   ]
  },
  {
   "cell_type": "code",
   "execution_count": 65,
   "metadata": {
    "colab": {
     "base_uri": "https://localhost:8080/"
    },
    "id": "fsEN2fPA5mLm",
    "outputId": "c5ff38b8-c314-41c8-c3d2-5ff4cbcbaf03"
   },
   "outputs": [
    {
     "name": "stdout",
     "output_type": "stream",
     "text": [
      "Alonso, al año dedicas 24 días de tu vida a ver series y 12 días de tu vida a ver películas\n"
     ]
    }
   ],
   "source": [
    "media_min_serie = 40\n",
    "media_min_peli = 100\n",
    "\n",
    "consumo = data[data.año < 2021].groupby('tipo').Title.count()\n",
    "\n",
    "minutos_pelis_año = consumo['pelicula'] * media_min_peli / 3\n",
    "\n",
    "minutos_series_año = consumo['serie'] * media_min_serie / 3\n",
    "\n",
    "dias_pelis_año = minutos_pelis_año / 60 / 24\n",
    "\n",
    "dias_series_año = minutos_series_año / 60 / 24\n",
    "\n",
    "print(f'Alonso, al año dedicas {round(dias_series_año)} días de tu vida a ver series y {round(dias_pelis_año)} días de tu vida a ver películas')"
   ]
  },
  {
   "cell_type": "markdown",
   "metadata": {
    "id": "sZvUqQsMBkIt"
   },
   "source": [
    "<b>¿Cuáles son las 10 series de las que he visto más capítulos?</b>"
   ]
  },
  {
   "cell_type": "code",
   "execution_count": 66,
   "metadata": {
    "colab": {
     "base_uri": "https://localhost:8080/",
     "height": 265
    },
    "id": "KTm57B_03z5n",
    "outputId": "199865e3-e000-4b7c-98d0-b78e15082e00"
   },
   "outputs": [
    {
     "data": {
      "image/png": "[encoded data removed]",
      "text/plain": [
       "<Figure size 432x288 with 1 Axes>"
      ]
     },
     "metadata": {
      "needs_background": "light"
     },
     "output_type": "display_data"
    }
   ],
   "source": [
    "data[data.tipo == 'serie']['nivel1'].value_counts(ascending = True).tail(10).plot.barh(cmap = 'Pastel1');"
   ]
  },
  {
   "cell_type": "markdown",
   "metadata": {
    "id": "AcyGolO1zWqm"
   },
   "source": [
    "<b>¿Qué día de la semana suelo ver más series?</b>"
   ]
  },
  {
   "cell_type": "code",
   "execution_count": 72,
   "metadata": {
    "colab": {
     "base_uri": "https://localhost:8080/",
     "height": 313
    },
    "id": "rqwe7EoJA-3p",
    "outputId": "38de0930-8a88-4c52-f3b1-712ca8eb3406"
   },
   "outputs": [
    {
     "data": {
      "image/png": "[encoded data removed]",
      "text/plain": [
       "<Figure size 432x288 with 1 Axes>"
      ]
     },
     "metadata": {
      "needs_background": "light"
     },
     "output_type": "display_data"
    }
   ],
   "source": [
    "data.loc[data.tipo == 'serie', 'dia_semana'].value_counts().plot(kind = 'bar');"
   ]
  },
  {
   "cell_type": "markdown",
   "metadata": {},
   "source": [
    "domingo y martes como los días más ideales para ver series"
   ]
  },
  {
   "cell_type": "markdown",
   "metadata": {},
   "source": [
    "# \n",
    "<b>¿Qué día de la semana suelo ver más películas?</b>"
   ]
  },
  {
   "cell_type": "code",
   "execution_count": 73,
   "metadata": {},
   "outputs": [
    {
     "data": {
      "image/png": "[encoded data removed]",
      "text/plain": [
       "<Figure size 432x288 with 1 Axes>"
      ]
     },
     "metadata": {
      "needs_background": "light"
     },
     "output_type": "display_data"
    }
   ],
   "source": [
    "data.loc[data.tipo == 'pelicula', 'dia_semana'].value_counts().plot(kind = 'bar');"
   ]
  },
  {
   "cell_type": "markdown",
   "metadata": {},
   "source": [
    "domingo y sábado como los días más ideales para ver series"
   ]
  },
  {
   "cell_type": "markdown",
   "metadata": {
    "id": "01DM0NcP2k6w"
   },
   "source": [
    "# \n",
    "<b>¿Existen diferencias en cuando veo Netflix entre series y películas?</b>"
   ]
  },
  {
   "cell_type": "code",
   "execution_count": 76,
   "metadata": {
    "colab": {
     "base_uri": "https://localhost:8080/",
     "height": 280
    },
    "id": "X87KaC2s2FbX",
    "outputId": "a9a053a5-b44b-45d1-b9ff-40c2b312280d"
   },
   "outputs": [
    {
     "data": {
      "image/png": "[encoded data removed]",
      "text/plain": [
       "<Figure size 432x288 with 1 Axes>"
      ]
     },
     "metadata": {
      "needs_background": "light"
     },
     "output_type": "display_data"
    }
   ],
   "source": [
    "import seaborn as sns\n",
    "\n",
    "sns.countplot(data = data, x = 'dia_semana', hue = 'tipo', palette= 'pastel');"
   ]
  },
  {
   "cell_type": "markdown",
   "metadata": {
    "id": "AxRgtJBX5Bdh"
   },
   "source": [
    "# \n",
    "<b>¿En qué mes se consume más Netflix? (Tener en cuenta que es el total desde que se inició hasta el momento)</b>"
   ]
  },
  {
   "cell_type": "code",
   "execution_count": 78,
   "metadata": {
    "colab": {
     "base_uri": "https://localhost:8080/",
     "height": 310
    },
    "id": "jDV_fwC62bg3",
    "outputId": "f42a4893-020d-4be3-b541-b63ad735f309"
   },
   "outputs": [
    {
     "data": {
      "image/png": "[encoded data removed]",
      "text/plain": [
       "<Figure size 432x288 with 1 Axes>"
      ]
     },
     "metadata": {
      "needs_background": "light"
     },
     "output_type": "display_data"
    }
   ],
   "source": [
    "data.loc[data.año < 2021].mes.value_counts().plot.bar();"
   ]
  },
  {
   "cell_type": "markdown",
   "metadata": {
    "id": "x7Td_xJW3P3o"
   },
   "source": [
    "# \n",
    "<b>¿Afectó la cuarentena la cantidad de uso que hice de Netflix?</b>"
   ]
  },
  {
   "cell_type": "code",
   "execution_count": 85,
   "metadata": {
    "colab": {
     "base_uri": "https://localhost:8080/",
     "height": 283
    },
    "id": "DSU77MWB2_5u",
    "outputId": "0fbdc42e-c7af-4b26-a4cd-d430e6918abc"
   },
   "outputs": [
    {
     "data": {
      "image/png": "[encoded data removed]",
      "text/plain": [
       "<Figure size 432x288 with 1 Axes>"
      ]
     },
     "metadata": {
      "needs_background": "light"
     },
     "output_type": "display_data"
    }
   ],
   "source": [
    "data['año'].value_counts().plot.bar();"
   ]
  }
 ],
 "metadata": {
  "colab": {
   "collapsed_sections": [],
   "name": "AnalisisNetflix.ipynb",
   "provenance": []
  },
  "kernelspec": {
   "display_name": "Python 3",
   "language": "python",
   "name": "python3"
  },
  "language_info": {
   "codemirror_mode": {
    "name": "ipython",
    "version": 3
   },
   "file_extension": ".py",
   "mimetype": "text/x-python",
   "name": "python",
   "nbconvert_exporter": "python",
   "pygments_lexer": "ipython3",
   "version": "3.8.3"
  },
  "latex_envs": {
   "LaTeX_envs_menu_present": true,
   "autoclose": false,
   "autocomplete": true,
   "bibliofile": "biblio.bib",
   "cite_by": "apalike",
   "current_citInitial": 1,
   "eqLabelWithNumbers": true,
   "eqNumInitial": 1,
   "hotkeys": {
    "equation": "Ctrl-E",
    "itemize": "Ctrl-I"
   },
   "labels_anchors": false,
   "latex_user_defs": false,
   "report_style_numbering": false,
   "user_envs_cfg": false
  }
 },
 "nbformat": 4,
 "nbformat_minor": 1
}
